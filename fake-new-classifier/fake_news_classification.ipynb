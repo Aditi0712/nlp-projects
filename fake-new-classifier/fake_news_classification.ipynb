{
 "cells": [
  {
   "cell_type": "markdown",
   "id": "4e184c8c",
   "metadata": {},
   "source": [
    "#### Importing required Libraries"
   ]
  },
  {
   "cell_type": "code",
   "execution_count": 39,
   "id": "d928622e",
   "metadata": {},
   "outputs": [],
   "source": [
    "import pandas as pd\n",
    "import numpy as np\n",
    "from sklearn.preprocessing import LabelEncoder\n",
    "from sklearn.model_selection import train_test_split\n",
    "import matplotlib.pyplot as plt\n",
    "import nltk\n",
    "from sklearn.feature_extraction.text import CountVectorizer, TfidfVectorizer, HashingVectorizer\n",
    "from nltk.corpus import stopwords\n",
    "from nltk.stem import WordNetLemmatizer, PorterStemmer\n",
    "import re\n",
    "from sklearn.compose import ColumnTransformer\n",
    "from sklearn.pipeline import Pipeline\n",
    "from sklearn.naive_bayes import MultinomialNB\n",
    "from sklearn.linear_model import PassiveAggressiveClassifier\n",
    "from sklearn.metrics import confusion_matrix, classification_report, accuracy_score"
   ]
  },
  {
   "cell_type": "code",
   "execution_count": 2,
   "id": "e4b22b63",
   "metadata": {},
   "outputs": [],
   "source": [
    "data=pd.read_csv('fake_news_test.csv')"
   ]
  },
  {
   "cell_type": "code",
   "execution_count": 3,
   "id": "9eb04ccd",
   "metadata": {},
   "outputs": [
    {
     "data": {
      "text/html": [
       "<div>\n",
       "<style scoped>\n",
       "    .dataframe tbody tr th:only-of-type {\n",
       "        vertical-align: middle;\n",
       "    }\n",
       "\n",
       "    .dataframe tbody tr th {\n",
       "        vertical-align: top;\n",
       "    }\n",
       "\n",
       "    .dataframe thead th {\n",
       "        text-align: right;\n",
       "    }\n",
       "</style>\n",
       "<table border=\"1\" class=\"dataframe\">\n",
       "  <thead>\n",
       "    <tr style=\"text-align: right;\">\n",
       "      <th></th>\n",
       "      <th>ID</th>\n",
       "      <th>text</th>\n",
       "      <th>title</th>\n",
       "      <th>our rating</th>\n",
       "    </tr>\n",
       "  </thead>\n",
       "  <tbody>\n",
       "    <tr>\n",
       "      <th>607</th>\n",
       "      <td>206921579192720402152220292846254137866</td>\n",
       "      <td>DISTRIBUTE TO EVERYONE who does not want to be...</td>\n",
       "      <td>‘From October 20, the Covid pass and vaccinati...</td>\n",
       "      <td>false</td>\n",
       "    </tr>\n",
       "    <tr>\n",
       "      <th>608</th>\n",
       "      <td>26464356958085668535128110139955868781</td>\n",
       "      <td>The physician who served as Bill Gates’ privat...</td>\n",
       "      <td>Bill Gates' Former Doctor Says He 'Refused To ...</td>\n",
       "      <td>Other</td>\n",
       "    </tr>\n",
       "    <tr>\n",
       "      <th>609</th>\n",
       "      <td>189700315351432315169761694613833047445</td>\n",
       "      <td>A customer leaves an SAQ outlet on Jan. 6, the...</td>\n",
       "      <td>Quebec’s expansion of COVID-19 vaccine passpor...</td>\n",
       "      <td>True</td>\n",
       "    </tr>\n",
       "    <tr>\n",
       "      <th>610</th>\n",
       "      <td>188373492569049166266633359075598402208</td>\n",
       "      <td>Vaccine coercion activists are using the fake ...</td>\n",
       "      <td>ALERT: Luc Montagnier Did NOT Say Vaccine Woul...</td>\n",
       "      <td>false</td>\n",
       "    </tr>\n",
       "    <tr>\n",
       "      <th>611</th>\n",
       "      <td>337277576050638215330059360481185892501</td>\n",
       "      <td>Placeholder while article actions load  Quebec...</td>\n",
       "      <td>Quebec’s cannabis, liquor stores to require co...</td>\n",
       "      <td>True</td>\n",
       "    </tr>\n",
       "  </tbody>\n",
       "</table>\n",
       "</div>"
      ],
      "text/plain": [
       "                                          ID  \\\n",
       "607  206921579192720402152220292846254137866   \n",
       "608   26464356958085668535128110139955868781   \n",
       "609  189700315351432315169761694613833047445   \n",
       "610  188373492569049166266633359075598402208   \n",
       "611  337277576050638215330059360481185892501   \n",
       "\n",
       "                                                  text  \\\n",
       "607  DISTRIBUTE TO EVERYONE who does not want to be...   \n",
       "608  The physician who served as Bill Gates’ privat...   \n",
       "609  A customer leaves an SAQ outlet on Jan. 6, the...   \n",
       "610  Vaccine coercion activists are using the fake ...   \n",
       "611  Placeholder while article actions load  Quebec...   \n",
       "\n",
       "                                                 title our rating  \n",
       "607  ‘From October 20, the Covid pass and vaccinati...      false  \n",
       "608  Bill Gates' Former Doctor Says He 'Refused To ...      Other  \n",
       "609  Quebec’s expansion of COVID-19 vaccine passpor...       True  \n",
       "610  ALERT: Luc Montagnier Did NOT Say Vaccine Woul...      false  \n",
       "611  Quebec’s cannabis, liquor stores to require co...       True  "
      ]
     },
     "execution_count": 3,
     "metadata": {},
     "output_type": "execute_result"
    }
   ],
   "source": [
    "data.tail()"
   ]
  },
  {
   "cell_type": "code",
   "execution_count": 4,
   "id": "631f8dea",
   "metadata": {},
   "outputs": [],
   "source": [
    "data=data.iloc[:,1:4]"
   ]
  },
  {
   "cell_type": "code",
   "execution_count": 5,
   "id": "206ca32a",
   "metadata": {},
   "outputs": [
    {
     "data": {
      "text/html": [
       "<div>\n",
       "<style scoped>\n",
       "    .dataframe tbody tr th:only-of-type {\n",
       "        vertical-align: middle;\n",
       "    }\n",
       "\n",
       "    .dataframe tbody tr th {\n",
       "        vertical-align: top;\n",
       "    }\n",
       "\n",
       "    .dataframe thead th {\n",
       "        text-align: right;\n",
       "    }\n",
       "</style>\n",
       "<table border=\"1\" class=\"dataframe\">\n",
       "  <thead>\n",
       "    <tr style=\"text-align: right;\">\n",
       "      <th></th>\n",
       "      <th>text</th>\n",
       "      <th>title</th>\n",
       "      <th>our rating</th>\n",
       "    </tr>\n",
       "  </thead>\n",
       "  <tbody>\n",
       "    <tr>\n",
       "      <th>0</th>\n",
       "      <td>The deputy secretary at the US Treasury has sa...</td>\n",
       "      <td>US Treasury deputy sec warns that shortages li...</td>\n",
       "      <td>Partially false</td>\n",
       "    </tr>\n",
       "    <tr>\n",
       "      <th>1</th>\n",
       "      <td>KABUL—Approximately twelve minutes after U.S. ...</td>\n",
       "      <td>CNN Praises Taliban For Wearing Masks During A...</td>\n",
       "      <td>Other</td>\n",
       "    </tr>\n",
       "    <tr>\n",
       "      <th>2</th>\n",
       "      <td>The vast majority of (oblivious) Americans hav...</td>\n",
       "      <td>Tennessee Has Just LEGALIZED Government COVID ...</td>\n",
       "      <td>false</td>\n",
       "    </tr>\n",
       "    <tr>\n",
       "      <th>3</th>\n",
       "      <td>(Natural News) There’s a secret layer of infor...</td>\n",
       "      <td>MEDICAL SHOCKER: Scientists at Sloan Kettering...</td>\n",
       "      <td>false</td>\n",
       "    </tr>\n",
       "    <tr>\n",
       "      <th>4</th>\n",
       "      <td>A recent study reported by the NCBI, which is ...</td>\n",
       "      <td>Study Results: Facemasks are Ineffective to Bl...</td>\n",
       "      <td>false</td>\n",
       "    </tr>\n",
       "  </tbody>\n",
       "</table>\n",
       "</div>"
      ],
      "text/plain": [
       "                                                text  \\\n",
       "0  The deputy secretary at the US Treasury has sa...   \n",
       "1  KABUL—Approximately twelve minutes after U.S. ...   \n",
       "2  The vast majority of (oblivious) Americans hav...   \n",
       "3  (Natural News) There’s a secret layer of infor...   \n",
       "4  A recent study reported by the NCBI, which is ...   \n",
       "\n",
       "                                               title       our rating  \n",
       "0  US Treasury deputy sec warns that shortages li...  Partially false  \n",
       "1  CNN Praises Taliban For Wearing Masks During A...            Other  \n",
       "2  Tennessee Has Just LEGALIZED Government COVID ...            false  \n",
       "3  MEDICAL SHOCKER: Scientists at Sloan Kettering...            false  \n",
       "4  Study Results: Facemasks are Ineffective to Bl...            false  "
      ]
     },
     "execution_count": 5,
     "metadata": {},
     "output_type": "execute_result"
    }
   ],
   "source": [
    "data.head()"
   ]
  },
  {
   "cell_type": "code",
   "execution_count": 6,
   "id": "d837da80",
   "metadata": {},
   "outputs": [
    {
     "data": {
      "image/png": "[encoded data removed]",
      "text/plain": [
       "<Figure size 432x432 with 1 Axes>"
      ]
     },
     "metadata": {
      "needs_background": "light"
     },
     "output_type": "display_data"
    }
   ],
   "source": [
    "plt.subplots(figsize=(6, 6))\n",
    "ax=data['our rating'].value_counts().sort_index().plot(kind='bar', color='skyblue')\n",
    "for p in ax.patches:\n",
    "    ax.annotate(str(p.get_height()), (p.get_x() + p.get_width() / 2., p.get_height()), ha='center', va='center', xytext=(0, 10), textcoords='offset points')"
   ]
  },
  {
   "cell_type": "markdown",
   "id": "5c8b2ff4",
   "metadata": {},
   "source": [
    "There are 576 False categories, 351 partially false, 210 true and 116 other categories in our dataset."
   ]
  },
  {
   "cell_type": "code",
   "execution_count": 7,
   "id": "b2b78a01",
   "metadata": {},
   "outputs": [
    {
     "data": {
      "text/plain": [
       "text          0\n",
       "title         0\n",
       "our rating    0\n",
       "dtype: int64"
      ]
     },
     "execution_count": 7,
     "metadata": {},
     "output_type": "execute_result"
    }
   ],
   "source": [
    "data.isna().sum()"
   ]
  },
  {
   "cell_type": "code",
   "execution_count": 8,
   "id": "a9951226",
   "metadata": {},
   "outputs": [],
   "source": [
    "data['title'].fillna('Unknown', inplace=True)"
   ]
  },
  {
   "cell_type": "code",
   "execution_count": 9,
   "id": "b8fe14e0",
   "metadata": {},
   "outputs": [
    {
     "data": {
      "text/plain": [
       "text          0\n",
       "title         0\n",
       "our rating    0\n",
       "dtype: int64"
      ]
     },
     "execution_count": 9,
     "metadata": {},
     "output_type": "execute_result"
    }
   ],
   "source": [
    "data.isna().sum()"
   ]
  },
  {
   "cell_type": "code",
   "execution_count": 10,
   "id": "c9010dc7",
   "metadata": {},
   "outputs": [
    {
     "data": {
      "text/plain": [
       "0"
      ]
     },
     "execution_count": 10,
     "metadata": {},
     "output_type": "execute_result"
    }
   ],
   "source": [
    "data.duplicated().sum()"
   ]
  },
  {
   "cell_type": "code",
   "execution_count": 11,
   "id": "8a90e58a",
   "metadata": {},
   "outputs": [],
   "source": [
    "data.drop_duplicates(inplace=True)"
   ]
  },
  {
   "cell_type": "code",
   "execution_count": 12,
   "id": "130ca8d9",
   "metadata": {},
   "outputs": [
    {
     "data": {
      "text/plain": [
       "0"
      ]
     },
     "execution_count": 12,
     "metadata": {},
     "output_type": "execute_result"
    }
   ],
   "source": [
    "data.duplicated().sum()"
   ]
  },
  {
   "cell_type": "markdown",
   "id": "6d396f04",
   "metadata": {},
   "source": [
    "Null values and duplicates handled"
   ]
  },
  {
   "cell_type": "markdown",
   "id": "76ebe6cb",
   "metadata": {},
   "source": [
    "## Separating dependent and independent features"
   ]
  },
  {
   "cell_type": "code",
   "execution_count": 13,
   "id": "9cc5d217",
   "metadata": {},
   "outputs": [],
   "source": [
    "X=data.drop('our rating', axis=1)"
   ]
  },
  {
   "cell_type": "code",
   "execution_count": 14,
   "id": "4af85e51",
   "metadata": {},
   "outputs": [
    {
     "data": {
      "text/html": [
       "<div>\n",
       "<style scoped>\n",
       "    .dataframe tbody tr th:only-of-type {\n",
       "        vertical-align: middle;\n",
       "    }\n",
       "\n",
       "    .dataframe tbody tr th {\n",
       "        vertical-align: top;\n",
       "    }\n",
       "\n",
       "    .dataframe thead th {\n",
       "        text-align: right;\n",
       "    }\n",
       "</style>\n",
       "<table border=\"1\" class=\"dataframe\">\n",
       "  <thead>\n",
       "    <tr style=\"text-align: right;\">\n",
       "      <th></th>\n",
       "      <th>text</th>\n",
       "      <th>title</th>\n",
       "    </tr>\n",
       "  </thead>\n",
       "  <tbody>\n",
       "    <tr>\n",
       "      <th>0</th>\n",
       "      <td>The deputy secretary at the US Treasury has sa...</td>\n",
       "      <td>US Treasury deputy sec warns that shortages li...</td>\n",
       "    </tr>\n",
       "    <tr>\n",
       "      <th>1</th>\n",
       "      <td>KABUL—Approximately twelve minutes after U.S. ...</td>\n",
       "      <td>CNN Praises Taliban For Wearing Masks During A...</td>\n",
       "    </tr>\n",
       "    <tr>\n",
       "      <th>2</th>\n",
       "      <td>The vast majority of (oblivious) Americans hav...</td>\n",
       "      <td>Tennessee Has Just LEGALIZED Government COVID ...</td>\n",
       "    </tr>\n",
       "    <tr>\n",
       "      <th>3</th>\n",
       "      <td>(Natural News) There’s a secret layer of infor...</td>\n",
       "      <td>MEDICAL SHOCKER: Scientists at Sloan Kettering...</td>\n",
       "    </tr>\n",
       "    <tr>\n",
       "      <th>4</th>\n",
       "      <td>A recent study reported by the NCBI, which is ...</td>\n",
       "      <td>Study Results: Facemasks are Ineffective to Bl...</td>\n",
       "    </tr>\n",
       "  </tbody>\n",
       "</table>\n",
       "</div>"
      ],
      "text/plain": [
       "                                                text  \\\n",
       "0  The deputy secretary at the US Treasury has sa...   \n",
       "1  KABUL—Approximately twelve minutes after U.S. ...   \n",
       "2  The vast majority of (oblivious) Americans hav...   \n",
       "3  (Natural News) There’s a secret layer of infor...   \n",
       "4  A recent study reported by the NCBI, which is ...   \n",
       "\n",
       "                                               title  \n",
       "0  US Treasury deputy sec warns that shortages li...  \n",
       "1  CNN Praises Taliban For Wearing Masks During A...  \n",
       "2  Tennessee Has Just LEGALIZED Government COVID ...  \n",
       "3  MEDICAL SHOCKER: Scientists at Sloan Kettering...  \n",
       "4  Study Results: Facemasks are Ineffective to Bl...  "
      ]
     },
     "execution_count": 14,
     "metadata": {},
     "output_type": "execute_result"
    }
   ],
   "source": [
    "X.head()"
   ]
  },
  {
   "cell_type": "markdown",
   "id": "7a4689ca",
   "metadata": {},
   "source": [
    "### Text pre-processing"
   ]
  },
  {
   "cell_type": "code",
   "execution_count": 15,
   "id": "f6899112",
   "metadata": {},
   "outputs": [],
   "source": [
    "msgs=data.copy()\n",
    "msgs.reset_index(inplace=True)"
   ]
  },
  {
   "cell_type": "code",
   "execution_count": 16,
   "id": "f7b71a2c",
   "metadata": {},
   "outputs": [
    {
     "data": {
      "text/html": [
       "<div>\n",
       "<style scoped>\n",
       "    .dataframe tbody tr th:only-of-type {\n",
       "        vertical-align: middle;\n",
       "    }\n",
       "\n",
       "    .dataframe tbody tr th {\n",
       "        vertical-align: top;\n",
       "    }\n",
       "\n",
       "    .dataframe thead th {\n",
       "        text-align: right;\n",
       "    }\n",
       "</style>\n",
       "<table border=\"1\" class=\"dataframe\">\n",
       "  <thead>\n",
       "    <tr style=\"text-align: right;\">\n",
       "      <th></th>\n",
       "      <th>index</th>\n",
       "      <th>text</th>\n",
       "      <th>title</th>\n",
       "      <th>our rating</th>\n",
       "    </tr>\n",
       "  </thead>\n",
       "  <tbody>\n",
       "    <tr>\n",
       "      <th>211</th>\n",
       "      <td>211</td>\n",
       "      <td>WeLoveTrump.com may receive compensation from ...</td>\n",
       "      <td>CDC Admits: More Dead from COVID-19 Vaccine Th...</td>\n",
       "      <td>false</td>\n",
       "    </tr>\n",
       "    <tr>\n",
       "      <th>611</th>\n",
       "      <td>611</td>\n",
       "      <td>Placeholder while article actions load  Quebec...</td>\n",
       "      <td>Quebec’s cannabis, liquor stores to require co...</td>\n",
       "      <td>True</td>\n",
       "    </tr>\n",
       "    <tr>\n",
       "      <th>244</th>\n",
       "      <td>244</td>\n",
       "      <td>Vaccines work. They have played a critical rol...</td>\n",
       "      <td>Transparency and data – UKHSA’s vaccines report</td>\n",
       "      <td>True</td>\n",
       "    </tr>\n",
       "    <tr>\n",
       "      <th>527</th>\n",
       "      <td>527</td>\n",
       "      <td>Barr’s comments came after The New York Times ...</td>\n",
       "      <td>Barr distances himself from Trump-era subpoena...</td>\n",
       "      <td>True</td>\n",
       "    </tr>\n",
       "    <tr>\n",
       "      <th>85</th>\n",
       "      <td>85</td>\n",
       "      <td>While watching reports from the Alba Party wom...</td>\n",
       "      <td>Wings Over Scotland</td>\n",
       "      <td>false</td>\n",
       "    </tr>\n",
       "  </tbody>\n",
       "</table>\n",
       "</div>"
      ],
      "text/plain": [
       "     index                                               text  \\\n",
       "211    211  WeLoveTrump.com may receive compensation from ...   \n",
       "611    611  Placeholder while article actions load  Quebec...   \n",
       "244    244  Vaccines work. They have played a critical rol...   \n",
       "527    527  Barr’s comments came after The New York Times ...   \n",
       "85      85  While watching reports from the Alba Party wom...   \n",
       "\n",
       "                                                 title our rating  \n",
       "211  CDC Admits: More Dead from COVID-19 Vaccine Th...      false  \n",
       "611  Quebec’s cannabis, liquor stores to require co...       True  \n",
       "244    Transparency and data – UKHSA’s vaccines report       True  \n",
       "527  Barr distances himself from Trump-era subpoena...       True  \n",
       "85                                 Wings Over Scotland      false  "
      ]
     },
     "execution_count": 16,
     "metadata": {},
     "output_type": "execute_result"
    }
   ],
   "source": [
    "msgs.sample(5)"
   ]
  },
  {
   "cell_type": "markdown",
   "id": "41394fcd",
   "metadata": {},
   "source": [
    "###### stop words removal and lemmatization"
   ]
  },
  {
   "cell_type": "code",
   "execution_count": 17,
   "id": "762fa94f",
   "metadata": {},
   "outputs": [],
   "source": [
    "lemmatizer=WordNetLemmatizer()\n",
    "corpus=[]\n",
    "for i in range(0, len(msgs)):\n",
    "    review=re.sub('[^a-zA-Z]',' ', msgs['title'][i])\n",
    "    review=review.lower().split()\n",
    "    review=[lemmatizer.lemmatize(word) for word in review if word not in set(stopwords.words('english'))]\n",
    "    review=' '.join(review)\n",
    "    corpus.append(review)"
   ]
  },
  {
   "cell_type": "code",
   "execution_count": 18,
   "id": "0e856a92",
   "metadata": {},
   "outputs": [
    {
     "data": {
      "text/plain": [
       "'rain fell normally snowy summit greenland first time record'"
      ]
     },
     "execution_count": 18,
     "metadata": {},
     "output_type": "execute_result"
    }
   ],
   "source": [
    "corpus[27]"
   ]
  },
  {
   "cell_type": "markdown",
   "id": "7c058815",
   "metadata": {},
   "source": [
    "##### Vectorizing the text using TFIDF"
   ]
  },
  {
   "cell_type": "code",
   "execution_count": 19,
   "id": "bce34c75",
   "metadata": {},
   "outputs": [],
   "source": [
    "cv=CountVectorizer(max_features=25000,ngram_range=(1,3))\n",
    "X=cv.fit_transform(corpus).toarray()"
   ]
  },
  {
   "cell_type": "code",
   "execution_count": 20,
   "id": "af1f095f",
   "metadata": {},
   "outputs": [
    {
     "data": {
      "text/plain": [
       "array([[0, 0, 0, ..., 0, 0, 0],\n",
       "       [0, 0, 0, ..., 0, 0, 0],\n",
       "       [0, 0, 0, ..., 0, 0, 0],\n",
       "       ...,\n",
       "       [0, 0, 0, ..., 0, 0, 0],\n",
       "       [0, 0, 0, ..., 0, 0, 0],\n",
       "       [0, 0, 0, ..., 0, 0, 0]], dtype=int64)"
      ]
     },
     "execution_count": 20,
     "metadata": {},
     "output_type": "execute_result"
    }
   ],
   "source": [
    "X"
   ]
  },
  {
   "cell_type": "code",
   "execution_count": 21,
   "id": "5e9c3134",
   "metadata": {},
   "outputs": [
    {
     "data": {
      "text/plain": [
       "(612, 9102)"
      ]
     },
     "execution_count": 21,
     "metadata": {},
     "output_type": "execute_result"
    }
   ],
   "source": [
    "X.shape"
   ]
  },
  {
   "cell_type": "code",
   "execution_count": 22,
   "id": "108a6963",
   "metadata": {},
   "outputs": [],
   "source": [
    "le=LabelEncoder()\n",
    "data['our rating']=le.fit_transform(data['our rating'])"
   ]
  },
  {
   "cell_type": "code",
   "execution_count": 23,
   "id": "5245ac34",
   "metadata": {},
   "outputs": [
    {
     "data": {
      "text/html": [
       "<div>\n",
       "<style scoped>\n",
       "    .dataframe tbody tr th:only-of-type {\n",
       "        vertical-align: middle;\n",
       "    }\n",
       "\n",
       "    .dataframe tbody tr th {\n",
       "        vertical-align: top;\n",
       "    }\n",
       "\n",
       "    .dataframe thead th {\n",
       "        text-align: right;\n",
       "    }\n",
       "</style>\n",
       "<table border=\"1\" class=\"dataframe\">\n",
       "  <thead>\n",
       "    <tr style=\"text-align: right;\">\n",
       "      <th></th>\n",
       "      <th>text</th>\n",
       "      <th>title</th>\n",
       "      <th>our rating</th>\n",
       "    </tr>\n",
       "  </thead>\n",
       "  <tbody>\n",
       "    <tr>\n",
       "      <th>255</th>\n",
       "      <td>DANIEL LEAL-OLIVAS via Getty Images  Oliver Do...</td>\n",
       "      <td>Tory Chairman Refuses To Rule Out Early Genera...</td>\n",
       "      <td>3</td>\n",
       "    </tr>\n",
       "    <tr>\n",
       "      <th>164</th>\n",
       "      <td>UPDATE: CLINTON HANGED AT GITMO  A military tr...</td>\n",
       "      <td>Clinton Military Tribunal: Day 5 CONVICTION!</td>\n",
       "      <td>4</td>\n",
       "    </tr>\n",
       "    <tr>\n",
       "      <th>92</th>\n",
       "      <td>Blue Origin's New Shepard rocket latest space ...</td>\n",
       "      <td>William Shatner, TV’s Capt. Kirk, blasts into ...</td>\n",
       "      <td>4</td>\n",
       "    </tr>\n",
       "    <tr>\n",
       "      <th>390</th>\n",
       "      <td>Last month Real Raw News reported on a shockin...</td>\n",
       "      <td>Pentagon Coup! Joint Chiefs Overthrown</td>\n",
       "      <td>4</td>\n",
       "    </tr>\n",
       "    <tr>\n",
       "      <th>139</th>\n",
       "      <td>A preprint paper by the prestigious Oxford Uni...</td>\n",
       "      <td>Study: Fully Vaccinated Healthcare Workers Car...</td>\n",
       "      <td>4</td>\n",
       "    </tr>\n",
       "    <tr>\n",
       "      <th>357</th>\n",
       "      <td>Comedian and podcaster Joe Rogan lost his $100...</td>\n",
       "      <td>Joe Rogan Loses Spotify Deal And Millions Due ...</td>\n",
       "      <td>4</td>\n",
       "    </tr>\n",
       "    <tr>\n",
       "      <th>384</th>\n",
       "      <td>Traitor. Murderer. Pedophile. Luciferian. Clin...</td>\n",
       "      <td>John Podesta Executed at GITMO</td>\n",
       "      <td>4</td>\n",
       "    </tr>\n",
       "    <tr>\n",
       "      <th>10</th>\n",
       "      <td>On Saturday, September 11, 43-year-old Dale Ol...</td>\n",
       "      <td>Census Data, CDC Database Expose Unvaccinated</td>\n",
       "      <td>0</td>\n",
       "    </tr>\n",
       "    <tr>\n",
       "      <th>217</th>\n",
       "      <td>Washington (CNN) A large gun-rights rally in V...</td>\n",
       "      <td>Virginia gun-rights rally concludes peacefully...</td>\n",
       "      <td>3</td>\n",
       "    </tr>\n",
       "    <tr>\n",
       "      <th>381</th>\n",
       "      <td>The psychopath John Brennan is no more.  On Mo...</td>\n",
       "      <td>John Brennan Hanged at GITMO</td>\n",
       "      <td>4</td>\n",
       "    </tr>\n",
       "  </tbody>\n",
       "</table>\n",
       "</div>"
      ],
      "text/plain": [
       "                                                  text  \\\n",
       "255  DANIEL LEAL-OLIVAS via Getty Images  Oliver Do...   \n",
       "164  UPDATE: CLINTON HANGED AT GITMO  A military tr...   \n",
       "92   Blue Origin's New Shepard rocket latest space ...   \n",
       "390  Last month Real Raw News reported on a shockin...   \n",
       "139  A preprint paper by the prestigious Oxford Uni...   \n",
       "357  Comedian and podcaster Joe Rogan lost his $100...   \n",
       "384  Traitor. Murderer. Pedophile. Luciferian. Clin...   \n",
       "10   On Saturday, September 11, 43-year-old Dale Ol...   \n",
       "217  Washington (CNN) A large gun-rights rally in V...   \n",
       "381  The psychopath John Brennan is no more.  On Mo...   \n",
       "\n",
       "                                                 title  our rating  \n",
       "255  Tory Chairman Refuses To Rule Out Early Genera...           3  \n",
       "164       Clinton Military Tribunal: Day 5 CONVICTION!           4  \n",
       "92   William Shatner, TV’s Capt. Kirk, blasts into ...           4  \n",
       "390             Pentagon Coup! Joint Chiefs Overthrown           4  \n",
       "139  Study: Fully Vaccinated Healthcare Workers Car...           4  \n",
       "357  Joe Rogan Loses Spotify Deal And Millions Due ...           4  \n",
       "384                     John Podesta Executed at GITMO           4  \n",
       "10       Census Data, CDC Database Expose Unvaccinated           0  \n",
       "217  Virginia gun-rights rally concludes peacefully...           3  \n",
       "381                       John Brennan Hanged at GITMO           4  "
      ]
     },
     "execution_count": 23,
     "metadata": {},
     "output_type": "execute_result"
    }
   ],
   "source": [
    "data.sample(10)"
   ]
  },
  {
   "cell_type": "code",
   "execution_count": 24,
   "id": "8c326625",
   "metadata": {},
   "outputs": [
    {
     "data": {
      "text/plain": [
       "array([2, 1, 4, 0, 3])"
      ]
     },
     "execution_count": 24,
     "metadata": {},
     "output_type": "execute_result"
    }
   ],
   "source": [
    "data['our rating'].unique()"
   ]
  },
  {
   "cell_type": "markdown",
   "id": "d42d1fc1",
   "metadata": {},
   "source": [
    "0-False, 3-partially false, 2-True, 1-other"
   ]
  },
  {
   "cell_type": "code",
   "execution_count": 25,
   "id": "6dd871f1",
   "metadata": {},
   "outputs": [],
   "source": [
    "y=data['our rating']"
   ]
  },
  {
   "cell_type": "code",
   "execution_count": 26,
   "id": "a1b02f33",
   "metadata": {},
   "outputs": [
    {
     "name": "stderr",
     "output_type": "stream",
     "text": [
      "C:\\Users\\Aditi\\python_softwares\\lib\\site-packages\\sklearn\\utils\\deprecation.py:87: FutureWarning: Function get_feature_names is deprecated; get_feature_names is deprecated in 1.0 and will be removed in 1.2. Please use get_feature_names_out instead.\n",
      "  warnings.warn(msg, category=FutureWarning)\n"
     ]
    },
    {
     "data": {
      "text/plain": [
       "['abandoned',\n",
       " 'abandoned false',\n",
       " 'abandoned false hiv',\n",
       " 'abandoned kabul',\n",
       " 'abandoned kabul airport',\n",
       " 'abc',\n",
       " 'abc nbc',\n",
       " 'abc nbc cbs',\n",
       " 'abedin',\n",
       " 'abilene',\n",
       " 'abilene tx',\n",
       " 'abinader',\n",
       " 'abolished',\n",
       " 'abolished entire',\n",
       " 'abolished entire territory',\n",
       " 'abortion',\n",
       " 'abortion ban',\n",
       " 'abortion ban pass',\n",
       " 'abortion birth',\n",
       " 'abortion law']"
      ]
     },
     "execution_count": 26,
     "metadata": {},
     "output_type": "execute_result"
    }
   ],
   "source": [
    "cv.get_feature_names()[:20]"
   ]
  },
  {
   "cell_type": "code",
   "execution_count": 27,
   "id": "c40f9a92",
   "metadata": {},
   "outputs": [
    {
     "data": {
      "text/plain": [
       "{'analyzer': 'word',\n",
       " 'binary': False,\n",
       " 'decode_error': 'strict',\n",
       " 'dtype': numpy.int64,\n",
       " 'encoding': 'utf-8',\n",
       " 'input': 'content',\n",
       " 'lowercase': True,\n",
       " 'max_df': 1.0,\n",
       " 'max_features': 25000,\n",
       " 'min_df': 1,\n",
       " 'ngram_range': (1, 3),\n",
       " 'preprocessor': None,\n",
       " 'stop_words': None,\n",
       " 'strip_accents': None,\n",
       " 'token_pattern': '(?u)\\\\b\\\\w\\\\w+\\\\b',\n",
       " 'tokenizer': None,\n",
       " 'vocabulary': None}"
      ]
     },
     "execution_count": 27,
     "metadata": {},
     "output_type": "execute_result"
    }
   ],
   "source": [
    "cv.get_params()"
   ]
  },
  {
   "cell_type": "code",
   "execution_count": 28,
   "id": "2afed031",
   "metadata": {},
   "outputs": [
    {
     "data": {
      "text/html": [
       "<div>\n",
       "<style scoped>\n",
       "    .dataframe tbody tr th:only-of-type {\n",
       "        vertical-align: middle;\n",
       "    }\n",
       "\n",
       "    .dataframe tbody tr th {\n",
       "        vertical-align: top;\n",
       "    }\n",
       "\n",
       "    .dataframe thead th {\n",
       "        text-align: right;\n",
       "    }\n",
       "</style>\n",
       "<table border=\"1\" class=\"dataframe\">\n",
       "  <thead>\n",
       "    <tr style=\"text-align: right;\">\n",
       "      <th></th>\n",
       "      <th>abandoned</th>\n",
       "      <th>abandoned false</th>\n",
       "      <th>abandoned false hiv</th>\n",
       "      <th>abandoned kabul</th>\n",
       "      <th>abandoned kabul airport</th>\n",
       "      <th>abc</th>\n",
       "      <th>abc nbc</th>\n",
       "      <th>abc nbc cbs</th>\n",
       "      <th>abedin</th>\n",
       "      <th>abilene</th>\n",
       "      <th>...</th>\n",
       "      <th>zinc bullet</th>\n",
       "      <th>zinc bullet kill</th>\n",
       "      <th>zinke</th>\n",
       "      <th>zinke interior</th>\n",
       "      <th>zinke interior secretary</th>\n",
       "      <th>zinke special</th>\n",
       "      <th>zinke special flag</th>\n",
       "      <th>zone</th>\n",
       "      <th>zone concentration</th>\n",
       "      <th>zone concentration camp</th>\n",
       "    </tr>\n",
       "  </thead>\n",
       "  <tbody>\n",
       "    <tr>\n",
       "      <th>607</th>\n",
       "      <td>0</td>\n",
       "      <td>0</td>\n",
       "      <td>0</td>\n",
       "      <td>0</td>\n",
       "      <td>0</td>\n",
       "      <td>0</td>\n",
       "      <td>0</td>\n",
       "      <td>0</td>\n",
       "      <td>0</td>\n",
       "      <td>0</td>\n",
       "      <td>...</td>\n",
       "      <td>0</td>\n",
       "      <td>0</td>\n",
       "      <td>0</td>\n",
       "      <td>0</td>\n",
       "      <td>0</td>\n",
       "      <td>0</td>\n",
       "      <td>0</td>\n",
       "      <td>0</td>\n",
       "      <td>0</td>\n",
       "      <td>0</td>\n",
       "    </tr>\n",
       "    <tr>\n",
       "      <th>608</th>\n",
       "      <td>0</td>\n",
       "      <td>0</td>\n",
       "      <td>0</td>\n",
       "      <td>0</td>\n",
       "      <td>0</td>\n",
       "      <td>0</td>\n",
       "      <td>0</td>\n",
       "      <td>0</td>\n",
       "      <td>0</td>\n",
       "      <td>0</td>\n",
       "      <td>...</td>\n",
       "      <td>0</td>\n",
       "      <td>0</td>\n",
       "      <td>0</td>\n",
       "      <td>0</td>\n",
       "      <td>0</td>\n",
       "      <td>0</td>\n",
       "      <td>0</td>\n",
       "      <td>0</td>\n",
       "      <td>0</td>\n",
       "      <td>0</td>\n",
       "    </tr>\n",
       "    <tr>\n",
       "      <th>609</th>\n",
       "      <td>0</td>\n",
       "      <td>0</td>\n",
       "      <td>0</td>\n",
       "      <td>0</td>\n",
       "      <td>0</td>\n",
       "      <td>0</td>\n",
       "      <td>0</td>\n",
       "      <td>0</td>\n",
       "      <td>0</td>\n",
       "      <td>0</td>\n",
       "      <td>...</td>\n",
       "      <td>0</td>\n",
       "      <td>0</td>\n",
       "      <td>0</td>\n",
       "      <td>0</td>\n",
       "      <td>0</td>\n",
       "      <td>0</td>\n",
       "      <td>0</td>\n",
       "      <td>0</td>\n",
       "      <td>0</td>\n",
       "      <td>0</td>\n",
       "    </tr>\n",
       "    <tr>\n",
       "      <th>610</th>\n",
       "      <td>0</td>\n",
       "      <td>0</td>\n",
       "      <td>0</td>\n",
       "      <td>0</td>\n",
       "      <td>0</td>\n",
       "      <td>0</td>\n",
       "      <td>0</td>\n",
       "      <td>0</td>\n",
       "      <td>0</td>\n",
       "      <td>0</td>\n",
       "      <td>...</td>\n",
       "      <td>0</td>\n",
       "      <td>0</td>\n",
       "      <td>0</td>\n",
       "      <td>0</td>\n",
       "      <td>0</td>\n",
       "      <td>0</td>\n",
       "      <td>0</td>\n",
       "      <td>0</td>\n",
       "      <td>0</td>\n",
       "      <td>0</td>\n",
       "    </tr>\n",
       "    <tr>\n",
       "      <th>611</th>\n",
       "      <td>0</td>\n",
       "      <td>0</td>\n",
       "      <td>0</td>\n",
       "      <td>0</td>\n",
       "      <td>0</td>\n",
       "      <td>0</td>\n",
       "      <td>0</td>\n",
       "      <td>0</td>\n",
       "      <td>0</td>\n",
       "      <td>0</td>\n",
       "      <td>...</td>\n",
       "      <td>0</td>\n",
       "      <td>0</td>\n",
       "      <td>0</td>\n",
       "      <td>0</td>\n",
       "      <td>0</td>\n",
       "      <td>0</td>\n",
       "      <td>0</td>\n",
       "      <td>0</td>\n",
       "      <td>0</td>\n",
       "      <td>0</td>\n",
       "    </tr>\n",
       "  </tbody>\n",
       "</table>\n",
       "<p>5 rows × 9102 columns</p>\n",
       "</div>"
      ],
      "text/plain": [
       "     abandoned  abandoned false  abandoned false hiv  abandoned kabul  \\\n",
       "607          0                0                    0                0   \n",
       "608          0                0                    0                0   \n",
       "609          0                0                    0                0   \n",
       "610          0                0                    0                0   \n",
       "611          0                0                    0                0   \n",
       "\n",
       "     abandoned kabul airport  abc  abc nbc  abc nbc cbs  abedin  abilene  ...  \\\n",
       "607                        0    0        0            0       0        0  ...   \n",
       "608                        0    0        0            0       0        0  ...   \n",
       "609                        0    0        0            0       0        0  ...   \n",
       "610                        0    0        0            0       0        0  ...   \n",
       "611                        0    0        0            0       0        0  ...   \n",
       "\n",
       "     zinc bullet  zinc bullet kill  zinke  zinke interior  \\\n",
       "607            0                 0      0               0   \n",
       "608            0                 0      0               0   \n",
       "609            0                 0      0               0   \n",
       "610            0                 0      0               0   \n",
       "611            0                 0      0               0   \n",
       "\n",
       "     zinke interior secretary  zinke special  zinke special flag  zone  \\\n",
       "607                         0              0                   0     0   \n",
       "608                         0              0                   0     0   \n",
       "609                         0              0                   0     0   \n",
       "610                         0              0                   0     0   \n",
       "611                         0              0                   0     0   \n",
       "\n",
       "     zone concentration  zone concentration camp  \n",
       "607                   0                        0  \n",
       "608                   0                        0  \n",
       "609                   0                        0  \n",
       "610                   0                        0  \n",
       "611                   0                        0  \n",
       "\n",
       "[5 rows x 9102 columns]"
      ]
     },
     "execution_count": 28,
     "metadata": {},
     "output_type": "execute_result"
    }
   ],
   "source": [
    "count_df=pd.DataFrame(X,columns=cv.get_feature_names())\n",
    "count_df.tail()"
   ]
  },
  {
   "cell_type": "markdown",
   "id": "afb0e54b",
   "metadata": {},
   "source": [
    "#### Train-Test Split"
   ]
  },
  {
   "cell_type": "code",
   "execution_count": 29,
   "id": "698170b4",
   "metadata": {},
   "outputs": [],
   "source": [
    "X_train, X_test, y_train, y_test=train_test_split(X,y, test_size=0.2,random_state=42)"
   ]
  },
  {
   "cell_type": "markdown",
   "id": "184f07af",
   "metadata": {},
   "source": [
    "### Applying the Models"
   ]
  },
  {
   "cell_type": "markdown",
   "id": "ebba2485",
   "metadata": {},
   "source": [
    "#### 1. MulinomialNB Algorithm"
   ]
  },
  {
   "cell_type": "code",
   "execution_count": 30,
   "id": "67bd0490",
   "metadata": {},
   "outputs": [],
   "source": [
    "classifier=MultinomialNB()\n",
    "classifier.fit(X_train,y_train)\n",
    "y_pred=classifier.predict(X_test)"
   ]
  },
  {
   "cell_type": "code",
   "execution_count": 31,
   "id": "8ecee3cc",
   "metadata": {},
   "outputs": [
    {
     "data": {
      "text/plain": [
       "0.4878048780487805"
      ]
     },
     "execution_count": 31,
     "metadata": {},
     "output_type": "execute_result"
    }
   ],
   "source": [
    "accuracy_score(y_test, y_pred)"
   ]
  },
  {
   "cell_type": "code",
   "execution_count": 32,
   "id": "5abe9860",
   "metadata": {},
   "outputs": [
    {
     "data": {
      "text/plain": [
       "array([[ 0,  0,  0,  0,  1],\n",
       "       [ 0,  2,  1,  1,  2],\n",
       "       [ 0,  5,  7,  2,  2],\n",
       "       [ 0,  5,  7, 20,  3],\n",
       "       [ 0, 16, 10,  8, 31]], dtype=int64)"
      ]
     },
     "execution_count": 32,
     "metadata": {},
     "output_type": "execute_result"
    }
   ],
   "source": [
    "confusion_matrix(y_test, y_pred)"
   ]
  },
  {
   "cell_type": "code",
   "execution_count": 33,
   "id": "cc06b126",
   "metadata": {},
   "outputs": [
    {
     "name": "stdout",
     "output_type": "stream",
     "text": [
      "              precision    recall  f1-score   support\n",
      "\n",
      "           0       0.00      0.00      0.00         1\n",
      "           1       0.07      0.33      0.12         6\n",
      "           2       0.28      0.44      0.34        16\n",
      "           3       0.65      0.57      0.61        35\n",
      "           4       0.79      0.48      0.60        65\n",
      "\n",
      "    accuracy                           0.49       123\n",
      "   macro avg       0.36      0.36      0.33       123\n",
      "weighted avg       0.64      0.49      0.54       123\n",
      "\n"
     ]
    },
    {
     "name": "stderr",
     "output_type": "stream",
     "text": [
      "C:\\Users\\Aditi\\python_softwares\\lib\\site-packages\\sklearn\\metrics\\_classification.py:1318: UndefinedMetricWarning: Precision and F-score are ill-defined and being set to 0.0 in labels with no predicted samples. Use `zero_division` parameter to control this behavior.\n",
      "  _warn_prf(average, modifier, msg_start, len(result))\n",
      "C:\\Users\\Aditi\\python_softwares\\lib\\site-packages\\sklearn\\metrics\\_classification.py:1318: UndefinedMetricWarning: Precision and F-score are ill-defined and being set to 0.0 in labels with no predicted samples. Use `zero_division` parameter to control this behavior.\n",
      "  _warn_prf(average, modifier, msg_start, len(result))\n",
      "C:\\Users\\Aditi\\python_softwares\\lib\\site-packages\\sklearn\\metrics\\_classification.py:1318: UndefinedMetricWarning: Precision and F-score are ill-defined and being set to 0.0 in labels with no predicted samples. Use `zero_division` parameter to control this behavior.\n",
      "  _warn_prf(average, modifier, msg_start, len(result))\n"
     ]
    }
   ],
   "source": [
    "print(classification_report(y_test, y_pred))"
   ]
  },
  {
   "cell_type": "code",
   "execution_count": 34,
   "id": "0e128b58",
   "metadata": {},
   "outputs": [],
   "source": [
    "classifier=PassiveAggressiveClassifier(max_iter=5000,C=0.5)\n",
    "classifier.fit(X_train,y_train)\n",
    "y_pred=classifier.predict(X_test)"
   ]
  },
  {
   "cell_type": "code",
   "execution_count": 35,
   "id": "8e01a0f9",
   "metadata": {},
   "outputs": [
    {
     "data": {
      "text/plain": [
       "0.6341463414634146"
      ]
     },
     "execution_count": 35,
     "metadata": {},
     "output_type": "execute_result"
    }
   ],
   "source": [
    "accuracy_score(y_test,y_pred)"
   ]
  },
  {
   "cell_type": "code",
   "execution_count": 36,
   "id": "a43ac1a0",
   "metadata": {},
   "outputs": [
    {
     "data": {
      "text/plain": [
       "array([[ 0,  0,  0,  0,  1],\n",
       "       [ 0,  0,  0,  4,  2],\n",
       "       [ 0,  0,  2,  6,  8],\n",
       "       [ 0,  0,  1, 29,  5],\n",
       "       [ 0,  0,  0, 18, 47]], dtype=int64)"
      ]
     },
     "execution_count": 36,
     "metadata": {},
     "output_type": "execute_result"
    }
   ],
   "source": [
    "confusion_matrix(y_test, y_pred)"
   ]
  },
  {
   "cell_type": "code",
   "execution_count": 37,
   "id": "9fcb6e8b",
   "metadata": {},
   "outputs": [
    {
     "name": "stdout",
     "output_type": "stream",
     "text": [
      "              precision    recall  f1-score   support\n",
      "\n",
      "           0       0.00      0.00      0.00         1\n",
      "           1       0.00      0.00      0.00         6\n",
      "           2       0.67      0.12      0.21        16\n",
      "           3       0.51      0.83      0.63        35\n",
      "           4       0.75      0.72      0.73        65\n",
      "\n",
      "    accuracy                           0.63       123\n",
      "   macro avg       0.38      0.34      0.32       123\n",
      "weighted avg       0.63      0.63      0.59       123\n",
      "\n"
     ]
    },
    {
     "name": "stderr",
     "output_type": "stream",
     "text": [
      "C:\\Users\\Aditi\\python_softwares\\lib\\site-packages\\sklearn\\metrics\\_classification.py:1318: UndefinedMetricWarning: Precision and F-score are ill-defined and being set to 0.0 in labels with no predicted samples. Use `zero_division` parameter to control this behavior.\n",
      "  _warn_prf(average, modifier, msg_start, len(result))\n",
      "C:\\Users\\Aditi\\python_softwares\\lib\\site-packages\\sklearn\\metrics\\_classification.py:1318: UndefinedMetricWarning: Precision and F-score are ill-defined and being set to 0.0 in labels with no predicted samples. Use `zero_division` parameter to control this behavior.\n",
      "  _warn_prf(average, modifier, msg_start, len(result))\n",
      "C:\\Users\\Aditi\\python_softwares\\lib\\site-packages\\sklearn\\metrics\\_classification.py:1318: UndefinedMetricWarning: Precision and F-score are ill-defined and being set to 0.0 in labels with no predicted samples. Use `zero_division` parameter to control this behavior.\n",
      "  _warn_prf(average, modifier, msg_start, len(result))\n"
     ]
    }
   ],
   "source": [
    "print(classification_report(y_test, y_pred))"
   ]
  },
  {
   "cell_type": "markdown",
   "id": "305a80bc",
   "metadata": {},
   "source": [
    "#### Hyper-parameter tuning"
   ]
  },
  {
   "cell_type": "code",
   "execution_count": 38,
   "id": "264572df",
   "metadata": {},
   "outputs": [],
   "source": [
    "classifier=MultinomialNB(alpha=0.1)"
   ]
  },
  {
   "cell_type": "code",
   "execution_count": 43,
   "id": "db791ccc",
   "metadata": {},
   "outputs": [
    {
     "name": "stderr",
     "output_type": "stream",
     "text": [
      "C:\\Users\\Aditi\\python_softwares\\lib\\site-packages\\sklearn\\naive_bayes.py:555: UserWarning: alpha too small will result in numeric errors, setting alpha = 1.0e-10\n",
      "  warnings.warn(\n"
     ]
    },
    {
     "name": "stdout",
     "output_type": "stream",
     "text": [
      "Alpha:0.0, Score:0.5447154471544715\n",
      "Alpha:0.1, Score:0.3008130081300813\n",
      "Alpha:0.2, Score:0.3252032520325203\n",
      "Alpha:0.30000000000000004, Score:0.34959349593495936\n",
      "Alpha:0.4, Score:0.3821138211382114\n",
      "Alpha:0.5, Score:0.4065040650406504\n",
      "Alpha:0.6000000000000001, Score:0.4065040650406504\n",
      "Alpha:0.7000000000000001, Score:0.4146341463414634\n",
      "Alpha:0.8, Score:0.42276422764227645\n",
      "Alpha:0.9, Score:0.4634146341463415\n"
     ]
    }
   ],
   "source": [
    "prev_score=0\n",
    "for alpha in np.arange(0,1,0.1):\n",
    "    sub_classifier=MultinomialNB(alpha=alpha)\n",
    "    sub_classifier.fit(X_train, y_train)\n",
    "    y_pred=sub_classifier.predict(X_test)\n",
    "    score=accuracy_score(y_test, y_pred)\n",
    "    if score>prev_score:\n",
    "        classifier=sub_classifier\n",
    "    print(\"Alpha:{}, Score:{}\".format(alpha,score))"
   ]
  },
  {
   "cell_type": "code",
   "execution_count": 57,
   "id": "c3d86bd3",
   "metadata": {},
   "outputs": [
    {
     "name": "stdout",
     "output_type": "stream",
     "text": [
      "Alpha:0.0, Score:0.04878048780487805\n",
      "Alpha:0.1, Score:0.6260162601626016\n",
      "Alpha:0.2, Score:0.6341463414634146\n",
      "Alpha:0.30000000000000004, Score:0.6260162601626016\n",
      "Alpha:0.4, Score:0.6178861788617886\n",
      "Alpha:0.5, Score:0.6178861788617886\n",
      "Alpha:0.6000000000000001, Score:0.6178861788617886\n",
      "Alpha:0.7000000000000001, Score:0.6178861788617886\n",
      "Alpha:0.8, Score:0.6178861788617886\n",
      "Alpha:0.9, Score:0.6178861788617886\n"
     ]
    }
   ],
   "source": [
    "prev_score=0\n",
    "for alpha in np.arange(0,1,0.1):\n",
    "    sub_classifier=PassiveAggressiveClassifier(C=alpha, max_iter=5000,shuffle=False )\n",
    "    sub_classifier.fit(X_train, y_train)\n",
    "    y_pred=sub_classifier.predict(X_test)\n",
    "    score=accuracy_score(y_test, y_pred)\n",
    "    if score>prev_score:\n",
    "        classifier=sub_classifier\n",
    "    print(\"Alpha:{}, Score:{}\".format(alpha,score))"
   ]
  },
  {
   "cell_type": "code",
   "execution_count": 68,
   "id": "f9a421ef",
   "metadata": {},
   "outputs": [],
   "source": [
    "classifier=PassiveAggressiveClassifier(max_iter=5000,C=0.3)\n",
    "classifier.fit(X_train,y_train)\n",
    "y_pred=classifier.predict(X_test)"
   ]
  },
  {
   "cell_type": "code",
   "execution_count": 69,
   "id": "35a65134",
   "metadata": {},
   "outputs": [
    {
     "data": {
      "text/plain": [
       "0.6341463414634146"
      ]
     },
     "execution_count": 69,
     "metadata": {},
     "output_type": "execute_result"
    }
   ],
   "source": [
    "accuracy_score(y_test, y_pred)"
   ]
  },
  {
   "cell_type": "code",
   "execution_count": 70,
   "id": "43d40b4f",
   "metadata": {},
   "outputs": [
    {
     "name": "stderr",
     "output_type": "stream",
     "text": [
      "C:\\Users\\Aditi\\python_softwares\\lib\\site-packages\\sklearn\\utils\\deprecation.py:87: FutureWarning: Function get_feature_names is deprecated; get_feature_names is deprecated in 1.0 and will be removed in 1.2. Please use get_feature_names_out instead.\n",
      "  warnings.warn(msg, category=FutureWarning)\n"
     ]
    }
   ],
   "source": [
    "feature_names=cv.get_feature_names()"
   ]
  },
  {
   "cell_type": "code",
   "execution_count": 71,
   "id": "1c7a6da5",
   "metadata": {},
   "outputs": [
    {
     "data": {
      "text/plain": [
       "array([-0.03788933, -0.0271891 , -0.0271891 , ..., -0.01166733,\n",
       "       -0.01166733, -0.01166733])"
      ]
     },
     "execution_count": 71,
     "metadata": {},
     "output_type": "execute_result"
    }
   ],
   "source": [
    "classifier.coef_[0]"
   ]
  },
  {
   "cell_type": "markdown",
   "id": "0c61bb7b",
   "metadata": {},
   "source": [
    "#### First 20 MOST REAL WORD"
   ]
  },
  {
   "cell_type": "code",
   "execution_count": 73,
   "id": "356ea820",
   "metadata": {},
   "outputs": [
    {
     "data": {
      "text/plain": [
       "[(-0.2214264195416412, 'vaccine'),\n",
       " (-0.15946802793316653, 'vaccinated'),\n",
       " (-0.10573710965867829, 'libya'),\n",
       " (-0.10362227219449266, 'national'),\n",
       " (-0.09952712203432446, 'national qualification'),\n",
       " (-0.09952712203432446, 'qualification'),\n",
       " (-0.09925115880976632, 'thermodynamics'),\n",
       " (-0.09275552057640046, 'luciferase'),\n",
       " (-0.09266644781496361, 'pandemic'),\n",
       " (-0.08879250164946825, 'pentagon'),\n",
       " (-0.08854259687669394, 'care'),\n",
       " (-0.08854259687669394, 'care levy'),\n",
       " (-0.08854259687669394, 'health social'),\n",
       " (-0.08854259687669394, 'health social care'),\n",
       " (-0.08854259687669394, 'levy'),\n",
       " (-0.08854259687669394, 'social'),\n",
       " (-0.08854259687669394, 'social care'),\n",
       " (-0.08854259687669394, 'social care levy'),\n",
       " (-0.08535905930188449, 'white'),\n",
       " (-0.08161374668719124, 'military')]"
      ]
     },
     "execution_count": 73,
     "metadata": {},
     "output_type": "execute_result"
    }
   ],
   "source": [
    "sorted(zip(classifier.coef_[0], feature_names), reverse=True)[:20]"
   ]
  },
  {
   "cell_type": "markdown",
   "id": "de210f88",
   "metadata": {},
   "source": [
    "#### Most Fakest words"
   ]
  },
  {
   "cell_type": "code",
   "execution_count": 74,
   "id": "cbf256f0",
   "metadata": {},
   "outputs": [
    {
     "data": {
      "text/plain": [
       "[(-0.2214264195416412, 'vaccine'),\n",
       " (-0.15946802793316653, 'vaccinated'),\n",
       " (-0.10573710965867829, 'libya'),\n",
       " (-0.10362227219449266, 'national'),\n",
       " (-0.09952712203432446, 'national qualification'),\n",
       " (-0.09952712203432446, 'qualification'),\n",
       " (-0.09925115880976632, 'thermodynamics'),\n",
       " (-0.09275552057640046, 'luciferase'),\n",
       " (-0.09266644781496361, 'pandemic'),\n",
       " (-0.08879250164946825, 'pentagon'),\n",
       " (-0.08854259687669394, 'care'),\n",
       " (-0.08854259687669394, 'care levy'),\n",
       " (-0.08854259687669394, 'health social'),\n",
       " (-0.08854259687669394, 'health social care'),\n",
       " (-0.08854259687669394, 'levy'),\n",
       " (-0.08854259687669394, 'social'),\n",
       " (-0.08854259687669394, 'social care'),\n",
       " (-0.08854259687669394, 'social care levy'),\n",
       " (-0.08535905930188449, 'white'),\n",
       " (-0.08161374668719124, 'military')]"
      ]
     },
     "execution_count": 74,
     "metadata": {},
     "output_type": "execute_result"
    }
   ],
   "source": [
    "sorted(zip(classifier.coef_[0], feature_names))[:20]"
   ]
  },
  {
   "cell_type": "code",
   "execution_count": null,
   "id": "66520090",
   "metadata": {},
   "outputs": [],
   "source": []
  }
 ],
 "metadata": {
  "kernelspec": {
   "display_name": "Python 3 (ipykernel)",
   "language": "python",
   "name": "python3"
  },
  "language_info": {
   "codemirror_mode": {
    "name": "ipython",
    "version": 3
   },
   "file_extension": ".py",
   "mimetype": "text/x-python",
   "name": "python",
   "nbconvert_exporter": "python",
   "pygments_lexer": "ipython3",
   "version": "3.9.12"
  }
 },
 "nbformat": 4,
 "nbformat_minor": 5
}
