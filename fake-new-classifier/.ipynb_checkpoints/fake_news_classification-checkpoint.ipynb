{
 "cells": [
  {
   "cell_type": "code",
   "execution_count": 1,
   "id": "74dda21e",
   "metadata": {},
   "outputs": [],
   "source": [
    "import pandas as pd\n",
    "from sklearn.preprocessing import LabelEncoder\n",
    "import matplotlib.pyplot as plt\n",
    "import nltk\n",
    "from sklearn.feature_extraction.text import CountVectorizer, TfidfVectorizer, HashingVectorizer\n",
    "from nltk.corpus import stopwords\n",
    "from nltk.stem import WordNetLemmatizer, PorterStemmer"
   ]
  },
  {
   "cell_type": "code",
   "execution_count": 2,
   "id": "b7eb6b98",
   "metadata": {},
   "outputs": [],
   "source": [
    "train_data=pd.read_csv('fake_news_train.csv')"
   ]
  },
  {
   "cell_type": "code",
   "execution_count": 3,
   "id": "911cf8ee",
   "metadata": {},
   "outputs": [
    {
     "data": {
      "text/html": [
       "<div>\n",
       "<style scoped>\n",
       "    .dataframe tbody tr th:only-of-type {\n",
       "        vertical-align: middle;\n",
       "    }\n",
       "\n",
       "    .dataframe tbody tr th {\n",
       "        vertical-align: top;\n",
       "    }\n",
       "\n",
       "    .dataframe thead th {\n",
       "        text-align: right;\n",
       "    }\n",
       "</style>\n",
       "<table border=\"1\" class=\"dataframe\">\n",
       "  <thead>\n",
       "    <tr style=\"text-align: right;\">\n",
       "      <th></th>\n",
       "      <th>public_id</th>\n",
       "      <th>text</th>\n",
       "      <th>title</th>\n",
       "      <th>our rating</th>\n",
       "    </tr>\n",
       "  </thead>\n",
       "  <tbody>\n",
       "    <tr>\n",
       "      <th>1248</th>\n",
       "      <td>47423bb6</td>\n",
       "      <td>More than four million calls to the taxman are...</td>\n",
       "      <td>Taxman fails to answer four million calls a ye...</td>\n",
       "      <td>TRUE</td>\n",
       "    </tr>\n",
       "    <tr>\n",
       "      <th>1249</th>\n",
       "      <td>097c142a</td>\n",
       "      <td>More under-18s are being taken to court for se...</td>\n",
       "      <td>Police catch 11‑year‑olds being used to sell d...</td>\n",
       "      <td>TRUE</td>\n",
       "    </tr>\n",
       "    <tr>\n",
       "      <th>1250</th>\n",
       "      <td>08bc59f4</td>\n",
       "      <td>The Government’s much vaunted Help to Buy Isa ...</td>\n",
       "      <td>Help to Buy Isa scandal: 500,000 first-time bu...</td>\n",
       "      <td>FALSE</td>\n",
       "    </tr>\n",
       "    <tr>\n",
       "      <th>1251</th>\n",
       "      <td>af3393ce</td>\n",
       "      <td>The late Robin Williams once called cocaine “G...</td>\n",
       "      <td>A coke-snorting generation of hypocrites</td>\n",
       "      <td>TRUE</td>\n",
       "    </tr>\n",
       "    <tr>\n",
       "      <th>1252</th>\n",
       "      <td>a39d07df</td>\n",
       "      <td>The late Robin Williams once called cocaine “G...</td>\n",
       "      <td>A coke-snorting generation of hypocrites</td>\n",
       "      <td>TRUE</td>\n",
       "    </tr>\n",
       "  </tbody>\n",
       "</table>\n",
       "</div>"
      ],
      "text/plain": [
       "     public_id                                               text  \\\n",
       "1248  47423bb6  More than four million calls to the taxman are...   \n",
       "1249  097c142a  More under-18s are being taken to court for se...   \n",
       "1250  08bc59f4  The Government’s much vaunted Help to Buy Isa ...   \n",
       "1251  af3393ce  The late Robin Williams once called cocaine “G...   \n",
       "1252  a39d07df  The late Robin Williams once called cocaine “G...   \n",
       "\n",
       "                                                  title our rating  \n",
       "1248  Taxman fails to answer four million calls a ye...       TRUE  \n",
       "1249  Police catch 11‑year‑olds being used to sell d...       TRUE  \n",
       "1250  Help to Buy Isa scandal: 500,000 first-time bu...      FALSE  \n",
       "1251           A coke-snorting generation of hypocrites       TRUE  \n",
       "1252           A coke-snorting generation of hypocrites       TRUE  "
      ]
     },
     "execution_count": 3,
     "metadata": {},
     "output_type": "execute_result"
    }
   ],
   "source": [
    "train_data.tail()"
   ]
  },
  {
   "cell_type": "code",
   "execution_count": 4,
   "id": "062e10a7",
   "metadata": {},
   "outputs": [],
   "source": [
    "train_data=train_data.iloc[:,1:4]"
   ]
  },
  {
   "cell_type": "code",
   "execution_count": 5,
   "id": "53b99d8f",
   "metadata": {},
   "outputs": [
    {
     "data": {
      "text/html": [
       "<div>\n",
       "<style scoped>\n",
       "    .dataframe tbody tr th:only-of-type {\n",
       "        vertical-align: middle;\n",
       "    }\n",
       "\n",
       "    .dataframe tbody tr th {\n",
       "        vertical-align: top;\n",
       "    }\n",
       "\n",
       "    .dataframe thead th {\n",
       "        text-align: right;\n",
       "    }\n",
       "</style>\n",
       "<table border=\"1\" class=\"dataframe\">\n",
       "  <thead>\n",
       "    <tr style=\"text-align: right;\">\n",
       "      <th></th>\n",
       "      <th>text</th>\n",
       "      <th>title</th>\n",
       "      <th>our rating</th>\n",
       "    </tr>\n",
       "  </thead>\n",
       "  <tbody>\n",
       "    <tr>\n",
       "      <th>0</th>\n",
       "      <td>Distracted driving causes more deaths in Canad...</td>\n",
       "      <td>You Can Be Fined $1,500 If Your Passenger Is U...</td>\n",
       "      <td>FALSE</td>\n",
       "    </tr>\n",
       "    <tr>\n",
       "      <th>1</th>\n",
       "      <td>Missouri politicians have made statements afte...</td>\n",
       "      <td>Missouri lawmakers condemn Las Vegas shooting</td>\n",
       "      <td>partially false</td>\n",
       "    </tr>\n",
       "    <tr>\n",
       "      <th>2</th>\n",
       "      <td>Home Alone 2: Lost in New York is full of viol...</td>\n",
       "      <td>CBC Cuts Donald Trump's 'Home Alone 2' Cameo O...</td>\n",
       "      <td>partially false</td>\n",
       "    </tr>\n",
       "    <tr>\n",
       "      <th>3</th>\n",
       "      <td>But things took a turn for the worse when riot...</td>\n",
       "      <td>Obama’s Daughters Caught on Camera Burning US ...</td>\n",
       "      <td>FALSE</td>\n",
       "    </tr>\n",
       "    <tr>\n",
       "      <th>4</th>\n",
       "      <td>It’s no secret that Epstein and Schiff share a...</td>\n",
       "      <td>Leaked Visitor Logs Reveal Schiff’s 78 Visits ...</td>\n",
       "      <td>FALSE</td>\n",
       "    </tr>\n",
       "  </tbody>\n",
       "</table>\n",
       "</div>"
      ],
      "text/plain": [
       "                                                text  \\\n",
       "0  Distracted driving causes more deaths in Canad...   \n",
       "1  Missouri politicians have made statements afte...   \n",
       "2  Home Alone 2: Lost in New York is full of viol...   \n",
       "3  But things took a turn for the worse when riot...   \n",
       "4  It’s no secret that Epstein and Schiff share a...   \n",
       "\n",
       "                                               title       our rating  \n",
       "0  You Can Be Fined $1,500 If Your Passenger Is U...            FALSE  \n",
       "1      Missouri lawmakers condemn Las Vegas shooting  partially false  \n",
       "2  CBC Cuts Donald Trump's 'Home Alone 2' Cameo O...  partially false  \n",
       "3  Obama’s Daughters Caught on Camera Burning US ...            FALSE  \n",
       "4  Leaked Visitor Logs Reveal Schiff’s 78 Visits ...            FALSE  "
      ]
     },
     "execution_count": 5,
     "metadata": {},
     "output_type": "execute_result"
    }
   ],
   "source": [
    "train_data.head()"
   ]
  },
  {
   "cell_type": "code",
   "execution_count": 6,
   "id": "9a79932c",
   "metadata": {},
   "outputs": [
    {
     "data": {
      "image/png": "[encoded data removed]",
      "text/plain": [
       "<Figure size 432x432 with 1 Axes>"
      ]
     },
     "metadata": {
      "needs_background": "light"
     },
     "output_type": "display_data"
    }
   ],
   "source": [
    "plt.subplots(figsize=(6, 6))\n",
    "ax=train_data['our rating'].value_counts().sort_index().plot(kind='bar', color='skyblue')\n",
    "for p in ax.patches:\n",
    "    ax.annotate(str(p.get_height()), (p.get_x() + p.get_width() / 2., p.get_height()), ha='center', va='center', xytext=(0, 10), textcoords='offset points')"
   ]
  },
  {
   "cell_type": "markdown",
   "id": "051c1f5c",
   "metadata": {},
   "source": [
    "There are 576 False categories, 351 partially false, 210 true and 116 other categories in our dataset."
   ]
  },
  {
   "cell_type": "code",
   "execution_count": 7,
   "id": "fb8ce7c4",
   "metadata": {},
   "outputs": [
    {
     "data": {
      "text/plain": [
       "text           0\n",
       "title         23\n",
       "our rating     0\n",
       "dtype: int64"
      ]
     },
     "execution_count": 7,
     "metadata": {},
     "output_type": "execute_result"
    }
   ],
   "source": [
    "train_data.isna().sum()"
   ]
  },
  {
   "cell_type": "code",
   "execution_count": 8,
   "id": "6d57e862",
   "metadata": {},
   "outputs": [],
   "source": [
    "train_data['title'].fillna('Unknown', inplace=True)"
   ]
  },
  {
   "cell_type": "code",
   "execution_count": 9,
   "id": "ad10c402",
   "metadata": {},
   "outputs": [
    {
     "data": {
      "text/plain": [
       "text          0\n",
       "title         0\n",
       "our rating    0\n",
       "dtype: int64"
      ]
     },
     "execution_count": 9,
     "metadata": {},
     "output_type": "execute_result"
    }
   ],
   "source": [
    "train_data.isna().sum()"
   ]
  },
  {
   "cell_type": "code",
   "execution_count": 10,
   "id": "e23f4311",
   "metadata": {},
   "outputs": [
    {
     "data": {
      "text/plain": [
       "161"
      ]
     },
     "execution_count": 10,
     "metadata": {},
     "output_type": "execute_result"
    }
   ],
   "source": [
    "train_data.duplicated().sum()"
   ]
  },
  {
   "cell_type": "code",
   "execution_count": 11,
   "id": "f812e880",
   "metadata": {},
   "outputs": [],
   "source": [
    "train_data.drop_duplicates(inplace=True)"
   ]
  },
  {
   "cell_type": "code",
   "execution_count": 12,
   "id": "0e537446",
   "metadata": {},
   "outputs": [
    {
     "data": {
      "text/plain": [
       "0"
      ]
     },
     "execution_count": 12,
     "metadata": {},
     "output_type": "execute_result"
    }
   ],
   "source": [
    "train_data.duplicated().sum()"
   ]
  },
  {
   "cell_type": "markdown",
   "id": "e2da2ced",
   "metadata": {},
   "source": [
    "Null values and duplicates handled"
   ]
  },
  {
   "cell_type": "markdown",
   "id": "1d02f6f6",
   "metadata": {},
   "source": [
    "## Separating dependent and independent features"
   ]
  },
  {
   "cell_type": "code",
   "execution_count": 13,
   "id": "52affb65",
   "metadata": {},
   "outputs": [],
   "source": [
    "X=train_data.drop('our rating', axis=1)"
   ]
  },
  {
   "cell_type": "code",
   "execution_count": 14,
   "id": "7be674a7",
   "metadata": {},
   "outputs": [
    {
     "data": {
      "text/html": [
       "<div>\n",
       "<style scoped>\n",
       "    .dataframe tbody tr th:only-of-type {\n",
       "        vertical-align: middle;\n",
       "    }\n",
       "\n",
       "    .dataframe tbody tr th {\n",
       "        vertical-align: top;\n",
       "    }\n",
       "\n",
       "    .dataframe thead th {\n",
       "        text-align: right;\n",
       "    }\n",
       "</style>\n",
       "<table border=\"1\" class=\"dataframe\">\n",
       "  <thead>\n",
       "    <tr style=\"text-align: right;\">\n",
       "      <th></th>\n",
       "      <th>text</th>\n",
       "      <th>title</th>\n",
       "    </tr>\n",
       "  </thead>\n",
       "  <tbody>\n",
       "    <tr>\n",
       "      <th>0</th>\n",
       "      <td>Distracted driving causes more deaths in Canad...</td>\n",
       "      <td>You Can Be Fined $1,500 If Your Passenger Is U...</td>\n",
       "    </tr>\n",
       "    <tr>\n",
       "      <th>1</th>\n",
       "      <td>Missouri politicians have made statements afte...</td>\n",
       "      <td>Missouri lawmakers condemn Las Vegas shooting</td>\n",
       "    </tr>\n",
       "    <tr>\n",
       "      <th>2</th>\n",
       "      <td>Home Alone 2: Lost in New York is full of viol...</td>\n",
       "      <td>CBC Cuts Donald Trump's 'Home Alone 2' Cameo O...</td>\n",
       "    </tr>\n",
       "    <tr>\n",
       "      <th>3</th>\n",
       "      <td>But things took a turn for the worse when riot...</td>\n",
       "      <td>Obama’s Daughters Caught on Camera Burning US ...</td>\n",
       "    </tr>\n",
       "    <tr>\n",
       "      <th>4</th>\n",
       "      <td>It’s no secret that Epstein and Schiff share a...</td>\n",
       "      <td>Leaked Visitor Logs Reveal Schiff’s 78 Visits ...</td>\n",
       "    </tr>\n",
       "  </tbody>\n",
       "</table>\n",
       "</div>"
      ],
      "text/plain": [
       "                                                text  \\\n",
       "0  Distracted driving causes more deaths in Canad...   \n",
       "1  Missouri politicians have made statements afte...   \n",
       "2  Home Alone 2: Lost in New York is full of viol...   \n",
       "3  But things took a turn for the worse when riot...   \n",
       "4  It’s no secret that Epstein and Schiff share a...   \n",
       "\n",
       "                                               title  \n",
       "0  You Can Be Fined $1,500 If Your Passenger Is U...  \n",
       "1      Missouri lawmakers condemn Las Vegas shooting  \n",
       "2  CBC Cuts Donald Trump's 'Home Alone 2' Cameo O...  \n",
       "3  Obama’s Daughters Caught on Camera Burning US ...  \n",
       "4  Leaked Visitor Logs Reveal Schiff’s 78 Visits ...  "
      ]
     },
     "execution_count": 14,
     "metadata": {},
     "output_type": "execute_result"
    }
   ],
   "source": [
    "X.head()"
   ]
  },
  {
   "cell_type": "code",
   "execution_count": 15,
   "id": "3479a80d",
   "metadata": {},
   "outputs": [],
   "source": [
    "msgs=train_data.copy()"
   ]
  },
  {
   "cell_type": "markdown",
   "id": "6a1c5794",
   "metadata": {},
   "source": []
  }
 ],
 "metadata": {
  "kernelspec": {
   "display_name": "Python 3 (ipykernel)",
   "language": "python",
   "name": "python3"
  },
  "language_info": {
   "codemirror_mode": {
    "name": "ipython",
    "version": 3
   },
   "file_extension": ".py",
   "mimetype": "text/x-python",
   "name": "python",
   "nbconvert_exporter": "python",
   "pygments_lexer": "ipython3",
   "version": "3.9.12"
  }
 },
 "nbformat": 4,
 "nbformat_minor": 5
}
