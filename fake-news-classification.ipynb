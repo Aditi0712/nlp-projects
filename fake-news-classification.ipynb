{
 "cells": [
  {
   "cell_type": "markdown",
   "id": "26195258",
   "metadata": {
    "papermill": {
     "duration": 0.015021,
     "end_time": "2024-01-11T05:29:47.226888",
     "exception": false,
     "start_time": "2024-01-11T05:29:47.211867",
     "status": "completed"
    },
    "tags": []
   },
   "source": [
    "#### Importing required Libraries"
   ]
  },
  {
   "cell_type": "code",
   "execution_count": 1,
   "id": "89884841",
   "metadata": {
    "execution": {
     "iopub.execute_input": "2024-01-11T05:29:47.259379Z",
     "iopub.status.busy": "2024-01-11T05:29:47.258994Z",
     "iopub.status.idle": "2024-01-11T05:29:49.782045Z",
     "shell.execute_reply": "2024-01-11T05:29:49.780496Z"
    },
    "papermill": {
     "duration": 2.544208,
     "end_time": "2024-01-11T05:29:49.786684",
     "exception": false,
     "start_time": "2024-01-11T05:29:47.242476",
     "status": "completed"
    },
    "tags": []
   },
   "outputs": [
    {
     "name": "stderr",
     "output_type": "stream",
     "text": [
      "/opt/conda/lib/python3.10/site-packages/scipy/__init__.py:146: UserWarning: A NumPy version >=1.16.5 and <1.23.0 is required for this version of SciPy (detected version 1.24.3\n",
      "  warnings.warn(f\"A NumPy version >={np_minversion} and <{np_maxversion}\"\n"
     ]
    }
   ],
   "source": [
    "import pandas as pd\n",
    "import numpy as np\n",
    "from sklearn.preprocessing import LabelEncoder\n",
    "from sklearn.model_selection import train_test_split\n",
    "import matplotlib.pyplot as plt\n",
    "import nltk\n",
    "from sklearn.feature_extraction.text import CountVectorizer, TfidfVectorizer, HashingVectorizer\n",
    "from nltk.corpus import stopwords\n",
    "from nltk.stem import WordNetLemmatizer, PorterStemmer\n",
    "import re\n",
    "from sklearn.compose import ColumnTransformer\n",
    "from sklearn.pipeline import Pipeline\n",
    "from sklearn.naive_bayes import MultinomialNB\n",
    "from sklearn.linear_model import PassiveAggressiveClassifier\n",
    "from sklearn.metrics import confusion_matrix, classification_report, accuracy_score"
   ]
  },
  {
   "cell_type": "code",
   "execution_count": 2,
   "id": "74fc2a3c",
   "metadata": {
    "execution": {
     "iopub.execute_input": "2024-01-11T05:29:49.824211Z",
     "iopub.status.busy": "2024-01-11T05:29:49.823690Z",
     "iopub.status.idle": "2024-01-11T05:30:07.498908Z",
     "shell.execute_reply": "2024-01-11T05:30:07.497741Z"
    },
    "papermill": {
     "duration": 17.696401,
     "end_time": "2024-01-11T05:30:07.501052",
     "exception": false,
     "start_time": "2024-01-11T05:29:49.804651",
     "status": "completed"
    },
    "tags": []
   },
   "outputs": [
    {
     "name": "stdout",
     "output_type": "stream",
     "text": [
      "[nltk_data] Downloading collection 'all'\n",
      "[nltk_data]    | \n",
      "[nltk_data]    | Downloading package abc to /usr/share/nltk_data...\n",
      "[nltk_data]    |   Package abc is already up-to-date!\n",
      "[nltk_data]    | Downloading package alpino to /usr/share/nltk_data...\n",
      "[nltk_data]    |   Package alpino is already up-to-date!\n",
      "[nltk_data]    | Downloading package averaged_perceptron_tagger to\n",
      "[nltk_data]    |     /usr/share/nltk_data...\n",
      "[nltk_data]    |   Package averaged_perceptron_tagger is already up-\n",
      "[nltk_data]    |       to-date!\n",
      "[nltk_data]    | Downloading package averaged_perceptron_tagger_ru to\n",
      "[nltk_data]    |     /usr/share/nltk_data...\n",
      "[nltk_data]    |   Unzipping\n",
      "[nltk_data]    |       taggers/averaged_perceptron_tagger_ru.zip.\n",
      "[nltk_data]    | Downloading package basque_grammars to\n",
      "[nltk_data]    |     /usr/share/nltk_data...\n",
      "[nltk_data]    |   Package basque_grammars is already up-to-date!\n",
      "[nltk_data]    | Downloading package bcp47 to /usr/share/nltk_data...\n",
      "[nltk_data]    | Downloading package biocreative_ppi to\n",
      "[nltk_data]    |     /usr/share/nltk_data...\n",
      "[nltk_data]    |   Package biocreative_ppi is already up-to-date!\n",
      "[nltk_data]    | Downloading package bllip_wsj_no_aux to\n",
      "[nltk_data]    |     /usr/share/nltk_data...\n",
      "[nltk_data]    |   Package bllip_wsj_no_aux is already up-to-date!\n",
      "[nltk_data]    | Downloading package book_grammars to\n",
      "[nltk_data]    |     /usr/share/nltk_data...\n",
      "[nltk_data]    |   Package book_grammars is already up-to-date!\n",
      "[nltk_data]    | Downloading package brown to /usr/share/nltk_data...\n",
      "[nltk_data]    |   Package brown is already up-to-date!\n",
      "[nltk_data]    | Downloading package brown_tei to\n",
      "[nltk_data]    |     /usr/share/nltk_data...\n",
      "[nltk_data]    |   Package brown_tei is already up-to-date!\n",
      "[nltk_data]    | Downloading package cess_cat to\n",
      "[nltk_data]    |     /usr/share/nltk_data...\n",
      "[nltk_data]    |   Package cess_cat is already up-to-date!\n",
      "[nltk_data]    | Downloading package cess_esp to\n",
      "[nltk_data]    |     /usr/share/nltk_data...\n",
      "[nltk_data]    |   Package cess_esp is already up-to-date!\n",
      "[nltk_data]    | Downloading package chat80 to /usr/share/nltk_data...\n",
      "[nltk_data]    |   Package chat80 is already up-to-date!\n",
      "[nltk_data]    | Downloading package city_database to\n",
      "[nltk_data]    |     /usr/share/nltk_data...\n",
      "[nltk_data]    |   Package city_database is already up-to-date!\n",
      "[nltk_data]    | Downloading package cmudict to\n",
      "[nltk_data]    |     /usr/share/nltk_data...\n",
      "[nltk_data]    |   Package cmudict is already up-to-date!\n",
      "[nltk_data]    | Downloading package comparative_sentences to\n",
      "[nltk_data]    |     /usr/share/nltk_data...\n",
      "[nltk_data]    |   Unzipping corpora/comparative_sentences.zip.\n",
      "[nltk_data]    | Downloading package comtrans to\n",
      "[nltk_data]    |     /usr/share/nltk_data...\n",
      "[nltk_data]    |   Package comtrans is already up-to-date!\n",
      "[nltk_data]    | Downloading package conll2000 to\n",
      "[nltk_data]    |     /usr/share/nltk_data...\n",
      "[nltk_data]    |   Package conll2000 is already up-to-date!\n",
      "[nltk_data]    | Downloading package conll2002 to\n",
      "[nltk_data]    |     /usr/share/nltk_data...\n",
      "[nltk_data]    |   Package conll2002 is already up-to-date!\n",
      "[nltk_data]    | Downloading package conll2007 to\n",
      "[nltk_data]    |     /usr/share/nltk_data...\n",
      "[nltk_data]    |   Package conll2007 is already up-to-date!\n",
      "[nltk_data]    | Downloading package crubadan to\n",
      "[nltk_data]    |     /usr/share/nltk_data...\n",
      "[nltk_data]    |   Package crubadan is already up-to-date!\n",
      "[nltk_data]    | Downloading package dependency_treebank to\n",
      "[nltk_data]    |     /usr/share/nltk_data...\n",
      "[nltk_data]    |   Package dependency_treebank is already up-to-date!\n",
      "[nltk_data]    | Downloading package dolch to /usr/share/nltk_data...\n",
      "[nltk_data]    |   Unzipping corpora/dolch.zip.\n",
      "[nltk_data]    | Downloading package europarl_raw to\n",
      "[nltk_data]    |     /usr/share/nltk_data...\n",
      "[nltk_data]    |   Package europarl_raw is already up-to-date!\n",
      "[nltk_data]    | Downloading package extended_omw to\n",
      "[nltk_data]    |     /usr/share/nltk_data...\n",
      "[nltk_data]    | Downloading package floresta to\n",
      "[nltk_data]    |     /usr/share/nltk_data...\n",
      "[nltk_data]    |   Package floresta is already up-to-date!\n",
      "[nltk_data]    | Downloading package framenet_v15 to\n",
      "[nltk_data]    |     /usr/share/nltk_data...\n",
      "[nltk_data]    |   Unzipping corpora/framenet_v15.zip.\n",
      "[nltk_data]    | Downloading package framenet_v17 to\n",
      "[nltk_data]    |     /usr/share/nltk_data...\n",
      "[nltk_data]    |   Unzipping corpora/framenet_v17.zip.\n",
      "[nltk_data]    | Downloading package gazetteers to\n",
      "[nltk_data]    |     /usr/share/nltk_data...\n",
      "[nltk_data]    |   Package gazetteers is already up-to-date!\n",
      "[nltk_data]    | Downloading package genesis to\n",
      "[nltk_data]    |     /usr/share/nltk_data...\n",
      "[nltk_data]    |   Package genesis is already up-to-date!\n",
      "[nltk_data]    | Downloading package gutenberg to\n",
      "[nltk_data]    |     /usr/share/nltk_data...\n",
      "[nltk_data]    |   Package gutenberg is already up-to-date!\n",
      "[nltk_data]    | Downloading package ieer to /usr/share/nltk_data...\n",
      "[nltk_data]    |   Package ieer is already up-to-date!\n",
      "[nltk_data]    | Downloading package inaugural to\n",
      "[nltk_data]    |     /usr/share/nltk_data...\n",
      "[nltk_data]    |   Package inaugural is already up-to-date!\n",
      "[nltk_data]    | Downloading package indian to /usr/share/nltk_data...\n",
      "[nltk_data]    |   Package indian is already up-to-date!\n",
      "[nltk_data]    | Downloading package jeita to /usr/share/nltk_data...\n",
      "[nltk_data]    |   Package jeita is already up-to-date!\n",
      "[nltk_data]    | Downloading package kimmo to /usr/share/nltk_data...\n",
      "[nltk_data]    |   Package kimmo is already up-to-date!\n",
      "[nltk_data]    | Downloading package knbc to /usr/share/nltk_data...\n",
      "[nltk_data]    |   Package knbc is already up-to-date!\n",
      "[nltk_data]    | Downloading package large_grammars to\n",
      "[nltk_data]    |     /usr/share/nltk_data...\n",
      "[nltk_data]    |   Package large_grammars is already up-to-date!\n",
      "[nltk_data]    | Downloading package lin_thesaurus to\n",
      "[nltk_data]    |     /usr/share/nltk_data...\n",
      "[nltk_data]    |   Package lin_thesaurus is already up-to-date!\n",
      "[nltk_data]    | Downloading package mac_morpho to\n",
      "[nltk_data]    |     /usr/share/nltk_data...\n",
      "[nltk_data]    |   Package mac_morpho is already up-to-date!\n",
      "[nltk_data]    | Downloading package machado to\n",
      "[nltk_data]    |     /usr/share/nltk_data...\n",
      "[nltk_data]    |   Package machado is already up-to-date!\n",
      "[nltk_data]    | Downloading package masc_tagged to\n",
      "[nltk_data]    |     /usr/share/nltk_data...\n",
      "[nltk_data]    |   Package masc_tagged is already up-to-date!\n",
      "[nltk_data]    | Downloading package maxent_ne_chunker to\n",
      "[nltk_data]    |     /usr/share/nltk_data...\n",
      "[nltk_data]    |   Package maxent_ne_chunker is already up-to-date!\n",
      "[nltk_data]    | Downloading package maxent_treebank_pos_tagger to\n",
      "[nltk_data]    |     /usr/share/nltk_data...\n",
      "[nltk_data]    |   Package maxent_treebank_pos_tagger is already up-\n",
      "[nltk_data]    |       to-date!\n",
      "[nltk_data]    | Downloading package moses_sample to\n",
      "[nltk_data]    |     /usr/share/nltk_data...\n",
      "[nltk_data]    |   Package moses_sample is already up-to-date!\n",
      "[nltk_data]    | Downloading package movie_reviews to\n",
      "[nltk_data]    |     /usr/share/nltk_data...\n",
      "[nltk_data]    |   Package movie_reviews is already up-to-date!\n",
      "[nltk_data]    | Downloading package mte_teip5 to\n",
      "[nltk_data]    |     /usr/share/nltk_data...\n",
      "[nltk_data]    |   Package mte_teip5 is already up-to-date!\n",
      "[nltk_data]    | Downloading package mwa_ppdb to\n",
      "[nltk_data]    |     /usr/share/nltk_data...\n",
      "[nltk_data]    |   Unzipping misc/mwa_ppdb.zip.\n",
      "[nltk_data]    | Downloading package names to /usr/share/nltk_data...\n",
      "[nltk_data]    |   Package names is already up-to-date!\n",
      "[nltk_data]    | Downloading package nombank.1.0 to\n",
      "[nltk_data]    |     /usr/share/nltk_data...\n",
      "[nltk_data]    | Downloading package nonbreaking_prefixes to\n",
      "[nltk_data]    |     /usr/share/nltk_data...\n",
      "[nltk_data]    |   Unzipping corpora/nonbreaking_prefixes.zip.\n",
      "[nltk_data]    | Downloading package nps_chat to\n",
      "[nltk_data]    |     /usr/share/nltk_data...\n",
      "[nltk_data]    |   Package nps_chat is already up-to-date!\n",
      "[nltk_data]    | Downloading package omw to /usr/share/nltk_data...\n",
      "[nltk_data]    |   Package omw is already up-to-date!\n",
      "[nltk_data]    | Downloading package omw-1.4 to\n",
      "[nltk_data]    |     /usr/share/nltk_data...\n",
      "[nltk_data]    | Downloading package opinion_lexicon to\n",
      "[nltk_data]    |     /usr/share/nltk_data...\n",
      "[nltk_data]    |   Package opinion_lexicon is already up-to-date!\n",
      "[nltk_data]    | Downloading package panlex_swadesh to\n",
      "[nltk_data]    |     /usr/share/nltk_data...\n",
      "[nltk_data]    | Downloading package paradigms to\n",
      "[nltk_data]    |     /usr/share/nltk_data...\n",
      "[nltk_data]    |   Package paradigms is already up-to-date!\n",
      "[nltk_data]    | Downloading package pe08 to /usr/share/nltk_data...\n",
      "[nltk_data]    |   Unzipping corpora/pe08.zip.\n",
      "[nltk_data]    | Downloading package perluniprops to\n",
      "[nltk_data]    |     /usr/share/nltk_data...\n",
      "[nltk_data]    |   Unzipping misc/perluniprops.zip.\n",
      "[nltk_data]    | Downloading package pil to /usr/share/nltk_data...\n",
      "[nltk_data]    |   Package pil is already up-to-date!\n",
      "[nltk_data]    | Downloading package pl196x to /usr/share/nltk_data...\n",
      "[nltk_data]    |   Package pl196x is already up-to-date!\n",
      "[nltk_data]    | Downloading package porter_test to\n",
      "[nltk_data]    |     /usr/share/nltk_data...\n",
      "[nltk_data]    |   Package porter_test is already up-to-date!\n",
      "[nltk_data]    | Downloading package ppattach to\n",
      "[nltk_data]    |     /usr/share/nltk_data...\n",
      "[nltk_data]    |   Package ppattach is already up-to-date!\n",
      "[nltk_data]    | Downloading package problem_reports to\n",
      "[nltk_data]    |     /usr/share/nltk_data...\n",
      "[nltk_data]    |   Package problem_reports is already up-to-date!\n",
      "[nltk_data]    | Downloading package product_reviews_1 to\n",
      "[nltk_data]    |     /usr/share/nltk_data...\n",
      "[nltk_data]    |   Package product_reviews_1 is already up-to-date!\n",
      "[nltk_data]    | Downloading package product_reviews_2 to\n",
      "[nltk_data]    |     /usr/share/nltk_data...\n",
      "[nltk_data]    |   Package product_reviews_2 is already up-to-date!\n",
      "[nltk_data]    | Downloading package propbank to\n",
      "[nltk_data]    |     /usr/share/nltk_data...\n",
      "[nltk_data]    |   Package propbank is already up-to-date!\n",
      "[nltk_data]    | Downloading package pros_cons to\n",
      "[nltk_data]    |     /usr/share/nltk_data...\n",
      "[nltk_data]    |   Package pros_cons is already up-to-date!\n",
      "[nltk_data]    | Downloading package ptb to /usr/share/nltk_data...\n",
      "[nltk_data]    |   Package ptb is already up-to-date!\n",
      "[nltk_data]    | Downloading package punkt to /usr/share/nltk_data...\n",
      "[nltk_data]    |   Package punkt is already up-to-date!\n",
      "[nltk_data]    | Downloading package qc to /usr/share/nltk_data...\n",
      "[nltk_data]    |   Package qc is already up-to-date!\n",
      "[nltk_data]    | Downloading package reuters to\n",
      "[nltk_data]    |     /usr/share/nltk_data...\n",
      "[nltk_data]    |   Package reuters is already up-to-date!\n",
      "[nltk_data]    | Downloading package rslp to /usr/share/nltk_data...\n",
      "[nltk_data]    |   Package rslp is already up-to-date!\n",
      "[nltk_data]    | Downloading package rte to /usr/share/nltk_data...\n",
      "[nltk_data]    |   Package rte is already up-to-date!\n",
      "[nltk_data]    | Downloading package sample_grammars to\n",
      "[nltk_data]    |     /usr/share/nltk_data...\n",
      "[nltk_data]    |   Package sample_grammars is already up-to-date!\n",
      "[nltk_data]    | Downloading package semcor to /usr/share/nltk_data...\n",
      "[nltk_data]    |   Package semcor is already up-to-date!\n",
      "[nltk_data]    | Downloading package senseval to\n",
      "[nltk_data]    |     /usr/share/nltk_data...\n",
      "[nltk_data]    |   Package senseval is already up-to-date!\n",
      "[nltk_data]    | Downloading package sentence_polarity to\n",
      "[nltk_data]    |     /usr/share/nltk_data...\n",
      "[nltk_data]    |   Package sentence_polarity is already up-to-date!\n",
      "[nltk_data]    | Downloading package sentiwordnet to\n",
      "[nltk_data]    |     /usr/share/nltk_data...\n",
      "[nltk_data]    |   Package sentiwordnet is already up-to-date!\n",
      "[nltk_data]    | Downloading package shakespeare to\n",
      "[nltk_data]    |     /usr/share/nltk_data...\n",
      "[nltk_data]    |   Package shakespeare is already up-to-date!\n",
      "[nltk_data]    | Downloading package sinica_treebank to\n",
      "[nltk_data]    |     /usr/share/nltk_data...\n",
      "[nltk_data]    |   Package sinica_treebank is already up-to-date!\n",
      "[nltk_data]    | Downloading package smultron to\n",
      "[nltk_data]    |     /usr/share/nltk_data...\n",
      "[nltk_data]    |   Package smultron is already up-to-date!\n",
      "[nltk_data]    | Downloading package snowball_data to\n",
      "[nltk_data]    |     /usr/share/nltk_data...\n",
      "[nltk_data]    |   Package snowball_data is already up-to-date!\n",
      "[nltk_data]    | Downloading package spanish_grammars to\n",
      "[nltk_data]    |     /usr/share/nltk_data...\n",
      "[nltk_data]    |   Package spanish_grammars is already up-to-date!\n",
      "[nltk_data]    | Downloading package state_union to\n",
      "[nltk_data]    |     /usr/share/nltk_data...\n",
      "[nltk_data]    |   Package state_union is already up-to-date!\n",
      "[nltk_data]    | Downloading package stopwords to\n",
      "[nltk_data]    |     /usr/share/nltk_data...\n",
      "[nltk_data]    |   Package stopwords is already up-to-date!\n",
      "[nltk_data]    | Downloading package subjectivity to\n",
      "[nltk_data]    |     /usr/share/nltk_data...\n",
      "[nltk_data]    |   Package subjectivity is already up-to-date!\n",
      "[nltk_data]    | Downloading package swadesh to\n",
      "[nltk_data]    |     /usr/share/nltk_data...\n",
      "[nltk_data]    |   Package swadesh is already up-to-date!\n",
      "[nltk_data]    | Downloading package switchboard to\n",
      "[nltk_data]    |     /usr/share/nltk_data...\n",
      "[nltk_data]    |   Package switchboard is already up-to-date!\n",
      "[nltk_data]    | Downloading package tagsets to\n",
      "[nltk_data]    |     /usr/share/nltk_data...\n",
      "[nltk_data]    |   Package tagsets is already up-to-date!\n",
      "[nltk_data]    | Downloading package timit to /usr/share/nltk_data...\n",
      "[nltk_data]    |   Package timit is already up-to-date!\n",
      "[nltk_data]    | Downloading package toolbox to\n",
      "[nltk_data]    |     /usr/share/nltk_data...\n",
      "[nltk_data]    |   Package toolbox is already up-to-date!\n",
      "[nltk_data]    | Downloading package treebank to\n",
      "[nltk_data]    |     /usr/share/nltk_data...\n",
      "[nltk_data]    |   Package treebank is already up-to-date!\n",
      "[nltk_data]    | Downloading package twitter_samples to\n",
      "[nltk_data]    |     /usr/share/nltk_data...\n",
      "[nltk_data]    |   Package twitter_samples is already up-to-date!\n",
      "[nltk_data]    | Downloading package udhr to /usr/share/nltk_data...\n",
      "[nltk_data]    |   Package udhr is already up-to-date!\n",
      "[nltk_data]    | Downloading package udhr2 to /usr/share/nltk_data...\n",
      "[nltk_data]    |   Package udhr2 is already up-to-date!\n",
      "[nltk_data]    | Downloading package unicode_samples to\n",
      "[nltk_data]    |     /usr/share/nltk_data...\n",
      "[nltk_data]    |   Package unicode_samples is already up-to-date!\n",
      "[nltk_data]    | Downloading package universal_tagset to\n",
      "[nltk_data]    |     /usr/share/nltk_data...\n",
      "[nltk_data]    |   Package universal_tagset is already up-to-date!\n",
      "[nltk_data]    | Downloading package universal_treebanks_v20 to\n",
      "[nltk_data]    |     /usr/share/nltk_data...\n",
      "[nltk_data]    |   Package universal_treebanks_v20 is already up-to-\n",
      "[nltk_data]    |       date!\n",
      "[nltk_data]    | Downloading package vader_lexicon to\n",
      "[nltk_data]    |     /usr/share/nltk_data...\n",
      "[nltk_data]    |   Package vader_lexicon is already up-to-date!\n",
      "[nltk_data]    | Downloading package verbnet to\n",
      "[nltk_data]    |     /usr/share/nltk_data...\n",
      "[nltk_data]    |   Package verbnet is already up-to-date!\n",
      "[nltk_data]    | Downloading package verbnet3 to\n",
      "[nltk_data]    |     /usr/share/nltk_data...\n",
      "[nltk_data]    |   Unzipping corpora/verbnet3.zip.\n",
      "[nltk_data]    | Downloading package webtext to\n",
      "[nltk_data]    |     /usr/share/nltk_data...\n",
      "[nltk_data]    |   Package webtext is already up-to-date!\n",
      "[nltk_data]    | Downloading package wmt15_eval to\n",
      "[nltk_data]    |     /usr/share/nltk_data...\n",
      "[nltk_data]    |   Unzipping models/wmt15_eval.zip.\n",
      "[nltk_data]    | Downloading package word2vec_sample to\n",
      "[nltk_data]    |     /usr/share/nltk_data...\n",
      "[nltk_data]    |   Package word2vec_sample is already up-to-date!\n",
      "[nltk_data]    | Downloading package wordnet to\n",
      "[nltk_data]    |     /usr/share/nltk_data...\n",
      "[nltk_data]    |   Package wordnet is already up-to-date!\n",
      "[nltk_data]    | Downloading package wordnet2021 to\n",
      "[nltk_data]    |     /usr/share/nltk_data...\n",
      "[nltk_data]    | Downloading package wordnet2022 to\n",
      "[nltk_data]    |     /usr/share/nltk_data...\n",
      "[nltk_data]    |   Unzipping corpora/wordnet2022.zip.\n",
      "[nltk_data]    | Downloading package wordnet31 to\n",
      "[nltk_data]    |     /usr/share/nltk_data...\n",
      "[nltk_data]    | Downloading package wordnet_ic to\n",
      "[nltk_data]    |     /usr/share/nltk_data...\n",
      "[nltk_data]    |   Package wordnet_ic is already up-to-date!\n",
      "[nltk_data]    | Downloading package words to /usr/share/nltk_data...\n",
      "[nltk_data]    |   Package words is already up-to-date!\n",
      "[nltk_data]    | Downloading package ycoe to /usr/share/nltk_data...\n",
      "[nltk_data]    |   Package ycoe is already up-to-date!\n",
      "[nltk_data]    | \n",
      "[nltk_data]  Done downloading collection all\n",
      "[nltk_data] Downloading package wordnet to /usr/share/nltk_data...\n",
      "[nltk_data]   Package wordnet is already up-to-date!\n"
     ]
    },
    {
     "data": {
      "text/plain": [
       "True"
      ]
     },
     "execution_count": 2,
     "metadata": {},
     "output_type": "execute_result"
    }
   ],
   "source": [
    "nltk.download('all')\n",
    "nltk.download('wordnet')"
   ]
  },
  {
   "cell_type": "code",
   "execution_count": 3,
   "id": "0f07435c",
   "metadata": {
    "execution": {
     "iopub.execute_input": "2024-01-11T05:30:07.539543Z",
     "iopub.status.busy": "2024-01-11T05:30:07.538764Z",
     "iopub.status.idle": "2024-01-11T05:30:14.013890Z",
     "shell.execute_reply": "2024-01-11T05:30:14.013033Z"
    },
    "papermill": {
     "duration": 6.497259,
     "end_time": "2024-01-11T05:30:14.016342",
     "exception": false,
     "start_time": "2024-01-11T05:30:07.519083",
     "status": "completed"
    },
    "tags": []
   },
   "outputs": [],
   "source": [
    "data=pd.read_csv('/kaggle/input/fake-news-classification/WELFake_Dataset.csv')"
   ]
  },
  {
   "cell_type": "code",
   "execution_count": 4,
   "id": "b3895fbd",
   "metadata": {
    "execution": {
     "iopub.execute_input": "2024-01-11T05:30:14.055311Z",
     "iopub.status.busy": "2024-01-11T05:30:14.054542Z",
     "iopub.status.idle": "2024-01-11T05:30:14.071580Z",
     "shell.execute_reply": "2024-01-11T05:30:14.070617Z"
    },
    "papermill": {
     "duration": 0.038931,
     "end_time": "2024-01-11T05:30:14.073700",
     "exception": false,
     "start_time": "2024-01-11T05:30:14.034769",
     "status": "completed"
    },
    "tags": []
   },
   "outputs": [
    {
     "data": {
      "text/html": [
       "<div>\n",
       "<style scoped>\n",
       "    .dataframe tbody tr th:only-of-type {\n",
       "        vertical-align: middle;\n",
       "    }\n",
       "\n",
       "    .dataframe tbody tr th {\n",
       "        vertical-align: top;\n",
       "    }\n",
       "\n",
       "    .dataframe thead th {\n",
       "        text-align: right;\n",
       "    }\n",
       "</style>\n",
       "<table border=\"1\" class=\"dataframe\">\n",
       "  <thead>\n",
       "    <tr style=\"text-align: right;\">\n",
       "      <th></th>\n",
       "      <th>Unnamed: 0</th>\n",
       "      <th>title</th>\n",
       "      <th>text</th>\n",
       "      <th>label</th>\n",
       "    </tr>\n",
       "  </thead>\n",
       "  <tbody>\n",
       "    <tr>\n",
       "      <th>72129</th>\n",
       "      <td>72129</td>\n",
       "      <td>Russians steal research on Trump in hack of U....</td>\n",
       "      <td>WASHINGTON (Reuters) - Hackers believed to be ...</td>\n",
       "      <td>0</td>\n",
       "    </tr>\n",
       "    <tr>\n",
       "      <th>72130</th>\n",
       "      <td>72130</td>\n",
       "      <td>WATCH: Giuliani Demands That Democrats Apolog...</td>\n",
       "      <td>You know, because in fantasyland Republicans n...</td>\n",
       "      <td>1</td>\n",
       "    </tr>\n",
       "    <tr>\n",
       "      <th>72131</th>\n",
       "      <td>72131</td>\n",
       "      <td>Migrants Refuse To Leave Train At Refugee Camp...</td>\n",
       "      <td>Migrants Refuse To Leave Train At Refugee Camp...</td>\n",
       "      <td>0</td>\n",
       "    </tr>\n",
       "    <tr>\n",
       "      <th>72132</th>\n",
       "      <td>72132</td>\n",
       "      <td>Trump tussle gives unpopular Mexican leader mu...</td>\n",
       "      <td>MEXICO CITY (Reuters) - Donald Trump’s combati...</td>\n",
       "      <td>0</td>\n",
       "    </tr>\n",
       "    <tr>\n",
       "      <th>72133</th>\n",
       "      <td>72133</td>\n",
       "      <td>Goldman Sachs Endorses Hillary Clinton For Pre...</td>\n",
       "      <td>Goldman Sachs Endorses Hillary Clinton For Pre...</td>\n",
       "      <td>1</td>\n",
       "    </tr>\n",
       "  </tbody>\n",
       "</table>\n",
       "</div>"
      ],
      "text/plain": [
       "       Unnamed: 0                                              title  \\\n",
       "72129       72129  Russians steal research on Trump in hack of U....   \n",
       "72130       72130   WATCH: Giuliani Demands That Democrats Apolog...   \n",
       "72131       72131  Migrants Refuse To Leave Train At Refugee Camp...   \n",
       "72132       72132  Trump tussle gives unpopular Mexican leader mu...   \n",
       "72133       72133  Goldman Sachs Endorses Hillary Clinton For Pre...   \n",
       "\n",
       "                                                    text  label  \n",
       "72129  WASHINGTON (Reuters) - Hackers believed to be ...      0  \n",
       "72130  You know, because in fantasyland Republicans n...      1  \n",
       "72131  Migrants Refuse To Leave Train At Refugee Camp...      0  \n",
       "72132  MEXICO CITY (Reuters) - Donald Trump’s combati...      0  \n",
       "72133  Goldman Sachs Endorses Hillary Clinton For Pre...      1  "
      ]
     },
     "execution_count": 4,
     "metadata": {},
     "output_type": "execute_result"
    }
   ],
   "source": [
    "data.tail()"
   ]
  },
  {
   "cell_type": "code",
   "execution_count": 5,
   "id": "cd398d7d",
   "metadata": {
    "execution": {
     "iopub.execute_input": "2024-01-11T05:30:14.112934Z",
     "iopub.status.busy": "2024-01-11T05:30:14.111870Z",
     "iopub.status.idle": "2024-01-11T05:30:14.124816Z",
     "shell.execute_reply": "2024-01-11T05:30:14.123939Z"
    },
    "papermill": {
     "duration": 0.034881,
     "end_time": "2024-01-11T05:30:14.127150",
     "exception": false,
     "start_time": "2024-01-11T05:30:14.092269",
     "status": "completed"
    },
    "tags": []
   },
   "outputs": [],
   "source": [
    "data=data.iloc[:,1:4]"
   ]
  },
  {
   "cell_type": "code",
   "execution_count": 6,
   "id": "0b3c0c1d",
   "metadata": {
    "execution": {
     "iopub.execute_input": "2024-01-11T05:30:14.165995Z",
     "iopub.status.busy": "2024-01-11T05:30:14.165139Z",
     "iopub.status.idle": "2024-01-11T05:30:14.175770Z",
     "shell.execute_reply": "2024-01-11T05:30:14.174827Z"
    },
    "papermill": {
     "duration": 0.032519,
     "end_time": "2024-01-11T05:30:14.177984",
     "exception": false,
     "start_time": "2024-01-11T05:30:14.145465",
     "status": "completed"
    },
    "tags": []
   },
   "outputs": [
    {
     "data": {
      "text/html": [
       "<div>\n",
       "<style scoped>\n",
       "    .dataframe tbody tr th:only-of-type {\n",
       "        vertical-align: middle;\n",
       "    }\n",
       "\n",
       "    .dataframe tbody tr th {\n",
       "        vertical-align: top;\n",
       "    }\n",
       "\n",
       "    .dataframe thead th {\n",
       "        text-align: right;\n",
       "    }\n",
       "</style>\n",
       "<table border=\"1\" class=\"dataframe\">\n",
       "  <thead>\n",
       "    <tr style=\"text-align: right;\">\n",
       "      <th></th>\n",
       "      <th>title</th>\n",
       "      <th>text</th>\n",
       "      <th>label</th>\n",
       "    </tr>\n",
       "  </thead>\n",
       "  <tbody>\n",
       "    <tr>\n",
       "      <th>0</th>\n",
       "      <td>LAW ENFORCEMENT ON HIGH ALERT Following Threat...</td>\n",
       "      <td>No comment is expected from Barack Obama Membe...</td>\n",
       "      <td>1</td>\n",
       "    </tr>\n",
       "    <tr>\n",
       "      <th>1</th>\n",
       "      <td>NaN</td>\n",
       "      <td>Did they post their votes for Hillary already?</td>\n",
       "      <td>1</td>\n",
       "    </tr>\n",
       "    <tr>\n",
       "      <th>2</th>\n",
       "      <td>UNBELIEVABLE! OBAMA’S ATTORNEY GENERAL SAYS MO...</td>\n",
       "      <td>Now, most of the demonstrators gathered last ...</td>\n",
       "      <td>1</td>\n",
       "    </tr>\n",
       "    <tr>\n",
       "      <th>3</th>\n",
       "      <td>Bobby Jindal, raised Hindu, uses story of Chri...</td>\n",
       "      <td>A dozen politically active pastors came here f...</td>\n",
       "      <td>0</td>\n",
       "    </tr>\n",
       "    <tr>\n",
       "      <th>4</th>\n",
       "      <td>SATAN 2: Russia unvelis an image of its terrif...</td>\n",
       "      <td>The RS-28 Sarmat missile, dubbed Satan 2, will...</td>\n",
       "      <td>1</td>\n",
       "    </tr>\n",
       "  </tbody>\n",
       "</table>\n",
       "</div>"
      ],
      "text/plain": [
       "                                               title  \\\n",
       "0  LAW ENFORCEMENT ON HIGH ALERT Following Threat...   \n",
       "1                                                NaN   \n",
       "2  UNBELIEVABLE! OBAMA’S ATTORNEY GENERAL SAYS MO...   \n",
       "3  Bobby Jindal, raised Hindu, uses story of Chri...   \n",
       "4  SATAN 2: Russia unvelis an image of its terrif...   \n",
       "\n",
       "                                                text  label  \n",
       "0  No comment is expected from Barack Obama Membe...      1  \n",
       "1     Did they post their votes for Hillary already?      1  \n",
       "2   Now, most of the demonstrators gathered last ...      1  \n",
       "3  A dozen politically active pastors came here f...      0  \n",
       "4  The RS-28 Sarmat missile, dubbed Satan 2, will...      1  "
      ]
     },
     "execution_count": 6,
     "metadata": {},
     "output_type": "execute_result"
    }
   ],
   "source": [
    "data.head()"
   ]
  },
  {
   "cell_type": "code",
   "execution_count": 7,
   "id": "cf92bcbc",
   "metadata": {
    "execution": {
     "iopub.execute_input": "2024-01-11T05:30:14.219210Z",
     "iopub.status.busy": "2024-01-11T05:30:14.218415Z",
     "iopub.status.idle": "2024-01-11T05:30:14.537656Z",
     "shell.execute_reply": "2024-01-11T05:30:14.536563Z"
    },
    "papermill": {
     "duration": 0.341349,
     "end_time": "2024-01-11T05:30:14.539957",
     "exception": false,
     "start_time": "2024-01-11T05:30:14.198608",
     "status": "completed"
    },
    "tags": []
   },
   "outputs": [
    {
     "data": {
      "image/png": "[encoded data removed]",
      "text/plain": [
       "<Figure size 600x600 with 1 Axes>"
      ]
     },
     "metadata": {},
     "output_type": "display_data"
    }
   ],
   "source": [
    "plt.subplots(figsize=(6, 6))\n",
    "ax=data['label'].value_counts().sort_index().plot(kind='bar', color='skyblue')\n",
    "for p in ax.patches:\n",
    "    ax.annotate(str(p.get_height()), (p.get_x() + p.get_width() / 2., p.get_height()), ha='center', va='center', xytext=(0, 10), textcoords='offset points')"
   ]
  },
  {
   "cell_type": "code",
   "execution_count": 8,
   "id": "832f8b2b",
   "metadata": {
    "execution": {
     "iopub.execute_input": "2024-01-11T05:30:14.581091Z",
     "iopub.status.busy": "2024-01-11T05:30:14.580730Z",
     "iopub.status.idle": "2024-01-11T05:30:14.610993Z",
     "shell.execute_reply": "2024-01-11T05:30:14.609882Z"
    },
    "papermill": {
     "duration": 0.054492,
     "end_time": "2024-01-11T05:30:14.613391",
     "exception": false,
     "start_time": "2024-01-11T05:30:14.558899",
     "status": "completed"
    },
    "tags": []
   },
   "outputs": [
    {
     "data": {
      "text/plain": [
       "title    558\n",
       "text      39\n",
       "label      0\n",
       "dtype: int64"
      ]
     },
     "execution_count": 8,
     "metadata": {},
     "output_type": "execute_result"
    }
   ],
   "source": [
    "data.isna().sum()"
   ]
  },
  {
   "cell_type": "code",
   "execution_count": 9,
   "id": "6727997f",
   "metadata": {
    "execution": {
     "iopub.execute_input": "2024-01-11T05:30:14.654987Z",
     "iopub.status.busy": "2024-01-11T05:30:14.654203Z",
     "iopub.status.idle": "2024-01-11T05:30:14.671290Z",
     "shell.execute_reply": "2024-01-11T05:30:14.670413Z"
    },
    "papermill": {
     "duration": 0.040771,
     "end_time": "2024-01-11T05:30:14.673657",
     "exception": false,
     "start_time": "2024-01-11T05:30:14.632886",
     "status": "completed"
    },
    "tags": []
   },
   "outputs": [],
   "source": [
    "data['title'].fillna('Unknown', inplace=True)"
   ]
  },
  {
   "cell_type": "code",
   "execution_count": 10,
   "id": "e74fa9c6",
   "metadata": {
    "execution": {
     "iopub.execute_input": "2024-01-11T05:30:14.770454Z",
     "iopub.status.busy": "2024-01-11T05:30:14.769970Z",
     "iopub.status.idle": "2024-01-11T05:30:14.799510Z",
     "shell.execute_reply": "2024-01-11T05:30:14.798459Z"
    },
    "papermill": {
     "duration": 0.107395,
     "end_time": "2024-01-11T05:30:14.801786",
     "exception": false,
     "start_time": "2024-01-11T05:30:14.694391",
     "status": "completed"
    },
    "tags": []
   },
   "outputs": [
    {
     "data": {
      "text/plain": [
       "title     0\n",
       "text     39\n",
       "label     0\n",
       "dtype: int64"
      ]
     },
     "execution_count": 10,
     "metadata": {},
     "output_type": "execute_result"
    }
   ],
   "source": [
    "data.isna().sum()"
   ]
  },
  {
   "cell_type": "code",
   "execution_count": 11,
   "id": "7b24702f",
   "metadata": {
    "execution": {
     "iopub.execute_input": "2024-01-11T05:30:14.842170Z",
     "iopub.status.busy": "2024-01-11T05:30:14.841441Z",
     "iopub.status.idle": "2024-01-11T05:30:14.883673Z",
     "shell.execute_reply": "2024-01-11T05:30:14.882665Z"
    },
    "papermill": {
     "duration": 0.065326,
     "end_time": "2024-01-11T05:30:14.886137",
     "exception": false,
     "start_time": "2024-01-11T05:30:14.820811",
     "status": "completed"
    },
    "tags": []
   },
   "outputs": [
    {
     "data": {
      "text/html": [
       "<div>\n",
       "<style scoped>\n",
       "    .dataframe tbody tr th:only-of-type {\n",
       "        vertical-align: middle;\n",
       "    }\n",
       "\n",
       "    .dataframe tbody tr th {\n",
       "        vertical-align: top;\n",
       "    }\n",
       "\n",
       "    .dataframe thead th {\n",
       "        text-align: right;\n",
       "    }\n",
       "</style>\n",
       "<table border=\"1\" class=\"dataframe\">\n",
       "  <thead>\n",
       "    <tr style=\"text-align: right;\">\n",
       "      <th></th>\n",
       "      <th>title</th>\n",
       "      <th>text</th>\n",
       "      <th>label</th>\n",
       "    </tr>\n",
       "  </thead>\n",
       "  <tbody>\n",
       "    <tr>\n",
       "      <th>0</th>\n",
       "      <td>LAW ENFORCEMENT ON HIGH ALERT Following Threat...</td>\n",
       "      <td>No comment is expected from Barack Obama Membe...</td>\n",
       "      <td>1</td>\n",
       "    </tr>\n",
       "    <tr>\n",
       "      <th>1</th>\n",
       "      <td>Unknown</td>\n",
       "      <td>Did they post their votes for Hillary already?</td>\n",
       "      <td>1</td>\n",
       "    </tr>\n",
       "    <tr>\n",
       "      <th>2</th>\n",
       "      <td>UNBELIEVABLE! OBAMA’S ATTORNEY GENERAL SAYS MO...</td>\n",
       "      <td>Now, most of the demonstrators gathered last ...</td>\n",
       "      <td>1</td>\n",
       "    </tr>\n",
       "    <tr>\n",
       "      <th>3</th>\n",
       "      <td>Bobby Jindal, raised Hindu, uses story of Chri...</td>\n",
       "      <td>A dozen politically active pastors came here f...</td>\n",
       "      <td>0</td>\n",
       "    </tr>\n",
       "    <tr>\n",
       "      <th>4</th>\n",
       "      <td>SATAN 2: Russia unvelis an image of its terrif...</td>\n",
       "      <td>The RS-28 Sarmat missile, dubbed Satan 2, will...</td>\n",
       "      <td>1</td>\n",
       "    </tr>\n",
       "    <tr>\n",
       "      <th>...</th>\n",
       "      <td>...</td>\n",
       "      <td>...</td>\n",
       "      <td>...</td>\n",
       "    </tr>\n",
       "    <tr>\n",
       "      <th>72129</th>\n",
       "      <td>Russians steal research on Trump in hack of U....</td>\n",
       "      <td>WASHINGTON (Reuters) - Hackers believed to be ...</td>\n",
       "      <td>0</td>\n",
       "    </tr>\n",
       "    <tr>\n",
       "      <th>72130</th>\n",
       "      <td>WATCH: Giuliani Demands That Democrats Apolog...</td>\n",
       "      <td>You know, because in fantasyland Republicans n...</td>\n",
       "      <td>1</td>\n",
       "    </tr>\n",
       "    <tr>\n",
       "      <th>72131</th>\n",
       "      <td>Migrants Refuse To Leave Train At Refugee Camp...</td>\n",
       "      <td>Migrants Refuse To Leave Train At Refugee Camp...</td>\n",
       "      <td>0</td>\n",
       "    </tr>\n",
       "    <tr>\n",
       "      <th>72132</th>\n",
       "      <td>Trump tussle gives unpopular Mexican leader mu...</td>\n",
       "      <td>MEXICO CITY (Reuters) - Donald Trump’s combati...</td>\n",
       "      <td>0</td>\n",
       "    </tr>\n",
       "    <tr>\n",
       "      <th>72133</th>\n",
       "      <td>Goldman Sachs Endorses Hillary Clinton For Pre...</td>\n",
       "      <td>Goldman Sachs Endorses Hillary Clinton For Pre...</td>\n",
       "      <td>1</td>\n",
       "    </tr>\n",
       "  </tbody>\n",
       "</table>\n",
       "<p>72095 rows × 3 columns</p>\n",
       "</div>"
      ],
      "text/plain": [
       "                                                   title  \\\n",
       "0      LAW ENFORCEMENT ON HIGH ALERT Following Threat...   \n",
       "1                                                Unknown   \n",
       "2      UNBELIEVABLE! OBAMA’S ATTORNEY GENERAL SAYS MO...   \n",
       "3      Bobby Jindal, raised Hindu, uses story of Chri...   \n",
       "4      SATAN 2: Russia unvelis an image of its terrif...   \n",
       "...                                                  ...   \n",
       "72129  Russians steal research on Trump in hack of U....   \n",
       "72130   WATCH: Giuliani Demands That Democrats Apolog...   \n",
       "72131  Migrants Refuse To Leave Train At Refugee Camp...   \n",
       "72132  Trump tussle gives unpopular Mexican leader mu...   \n",
       "72133  Goldman Sachs Endorses Hillary Clinton For Pre...   \n",
       "\n",
       "                                                    text  label  \n",
       "0      No comment is expected from Barack Obama Membe...      1  \n",
       "1         Did they post their votes for Hillary already?      1  \n",
       "2       Now, most of the demonstrators gathered last ...      1  \n",
       "3      A dozen politically active pastors came here f...      0  \n",
       "4      The RS-28 Sarmat missile, dubbed Satan 2, will...      1  \n",
       "...                                                  ...    ...  \n",
       "72129  WASHINGTON (Reuters) - Hackers believed to be ...      0  \n",
       "72130  You know, because in fantasyland Republicans n...      1  \n",
       "72131  Migrants Refuse To Leave Train At Refugee Camp...      0  \n",
       "72132  MEXICO CITY (Reuters) - Donald Trump’s combati...      0  \n",
       "72133  Goldman Sachs Endorses Hillary Clinton For Pre...      1  \n",
       "\n",
       "[72095 rows x 3 columns]"
      ]
     },
     "execution_count": 11,
     "metadata": {},
     "output_type": "execute_result"
    }
   ],
   "source": [
    "data.dropna()"
   ]
  },
  {
   "cell_type": "code",
   "execution_count": 12,
   "id": "2d1377ca",
   "metadata": {
    "execution": {
     "iopub.execute_input": "2024-01-11T05:30:14.927985Z",
     "iopub.status.busy": "2024-01-11T05:30:14.927067Z",
     "iopub.status.idle": "2024-01-11T05:30:15.197927Z",
     "shell.execute_reply": "2024-01-11T05:30:15.196919Z"
    },
    "papermill": {
     "duration": 0.293785,
     "end_time": "2024-01-11T05:30:15.200223",
     "exception": false,
     "start_time": "2024-01-11T05:30:14.906438",
     "status": "completed"
    },
    "tags": []
   },
   "outputs": [
    {
     "data": {
      "text/plain": [
       "8456"
      ]
     },
     "execution_count": 12,
     "metadata": {},
     "output_type": "execute_result"
    }
   ],
   "source": [
    "data.duplicated().sum()"
   ]
  },
  {
   "cell_type": "code",
   "execution_count": 13,
   "id": "9b5e9bef",
   "metadata": {
    "execution": {
     "iopub.execute_input": "2024-01-11T05:30:15.240893Z",
     "iopub.status.busy": "2024-01-11T05:30:15.240055Z",
     "iopub.status.idle": "2024-01-11T05:30:15.306655Z",
     "shell.execute_reply": "2024-01-11T05:30:15.305604Z"
    },
    "papermill": {
     "duration": 0.090004,
     "end_time": "2024-01-11T05:30:15.309439",
     "exception": false,
     "start_time": "2024-01-11T05:30:15.219435",
     "status": "completed"
    },
    "tags": []
   },
   "outputs": [],
   "source": [
    "data.drop_duplicates(inplace=True)"
   ]
  },
  {
   "cell_type": "code",
   "execution_count": 14,
   "id": "f7adccf6",
   "metadata": {
    "execution": {
     "iopub.execute_input": "2024-01-11T05:30:15.351271Z",
     "iopub.status.busy": "2024-01-11T05:30:15.350853Z",
     "iopub.status.idle": "2024-01-11T05:30:15.405781Z",
     "shell.execute_reply": "2024-01-11T05:30:15.404773Z"
    },
    "papermill": {
     "duration": 0.078567,
     "end_time": "2024-01-11T05:30:15.408095",
     "exception": false,
     "start_time": "2024-01-11T05:30:15.329528",
     "status": "completed"
    },
    "tags": []
   },
   "outputs": [
    {
     "data": {
      "text/plain": [
       "0"
      ]
     },
     "execution_count": 14,
     "metadata": {},
     "output_type": "execute_result"
    }
   ],
   "source": [
    "data.duplicated().sum()"
   ]
  },
  {
   "cell_type": "markdown",
   "id": "5b23e084",
   "metadata": {
    "papermill": {
     "duration": 0.019814,
     "end_time": "2024-01-11T05:30:15.448346",
     "exception": false,
     "start_time": "2024-01-11T05:30:15.428532",
     "status": "completed"
    },
    "tags": []
   },
   "source": [
    "Null values and duplicates handled"
   ]
  },
  {
   "cell_type": "markdown",
   "id": "3476471a",
   "metadata": {
    "papermill": {
     "duration": 0.019405,
     "end_time": "2024-01-11T05:30:15.487952",
     "exception": false,
     "start_time": "2024-01-11T05:30:15.468547",
     "status": "completed"
    },
    "tags": []
   },
   "source": [
    "## Separating dependent and independent features"
   ]
  },
  {
   "cell_type": "code",
   "execution_count": 15,
   "id": "d845e88c",
   "metadata": {
    "execution": {
     "iopub.execute_input": "2024-01-11T05:30:15.528862Z",
     "iopub.status.busy": "2024-01-11T05:30:15.527789Z",
     "iopub.status.idle": "2024-01-11T05:30:15.540816Z",
     "shell.execute_reply": "2024-01-11T05:30:15.539378Z"
    },
    "papermill": {
     "duration": 0.037007,
     "end_time": "2024-01-11T05:30:15.544398",
     "exception": false,
     "start_time": "2024-01-11T05:30:15.507391",
     "status": "completed"
    },
    "tags": []
   },
   "outputs": [],
   "source": [
    "X=data.drop('label', axis=1)"
   ]
  },
  {
   "cell_type": "code",
   "execution_count": 16,
   "id": "fdf0386d",
   "metadata": {
    "execution": {
     "iopub.execute_input": "2024-01-11T05:30:15.598016Z",
     "iopub.status.busy": "2024-01-11T05:30:15.597304Z",
     "iopub.status.idle": "2024-01-11T05:30:15.607523Z",
     "shell.execute_reply": "2024-01-11T05:30:15.606555Z"
    },
    "papermill": {
     "duration": 0.035599,
     "end_time": "2024-01-11T05:30:15.610140",
     "exception": false,
     "start_time": "2024-01-11T05:30:15.574541",
     "status": "completed"
    },
    "tags": []
   },
   "outputs": [
    {
     "data": {
      "text/html": [
       "<div>\n",
       "<style scoped>\n",
       "    .dataframe tbody tr th:only-of-type {\n",
       "        vertical-align: middle;\n",
       "    }\n",
       "\n",
       "    .dataframe tbody tr th {\n",
       "        vertical-align: top;\n",
       "    }\n",
       "\n",
       "    .dataframe thead th {\n",
       "        text-align: right;\n",
       "    }\n",
       "</style>\n",
       "<table border=\"1\" class=\"dataframe\">\n",
       "  <thead>\n",
       "    <tr style=\"text-align: right;\">\n",
       "      <th></th>\n",
       "      <th>title</th>\n",
       "      <th>text</th>\n",
       "    </tr>\n",
       "  </thead>\n",
       "  <tbody>\n",
       "    <tr>\n",
       "      <th>0</th>\n",
       "      <td>LAW ENFORCEMENT ON HIGH ALERT Following Threat...</td>\n",
       "      <td>No comment is expected from Barack Obama Membe...</td>\n",
       "    </tr>\n",
       "    <tr>\n",
       "      <th>1</th>\n",
       "      <td>Unknown</td>\n",
       "      <td>Did they post their votes for Hillary already?</td>\n",
       "    </tr>\n",
       "    <tr>\n",
       "      <th>2</th>\n",
       "      <td>UNBELIEVABLE! OBAMA’S ATTORNEY GENERAL SAYS MO...</td>\n",
       "      <td>Now, most of the demonstrators gathered last ...</td>\n",
       "    </tr>\n",
       "    <tr>\n",
       "      <th>3</th>\n",
       "      <td>Bobby Jindal, raised Hindu, uses story of Chri...</td>\n",
       "      <td>A dozen politically active pastors came here f...</td>\n",
       "    </tr>\n",
       "    <tr>\n",
       "      <th>4</th>\n",
       "      <td>SATAN 2: Russia unvelis an image of its terrif...</td>\n",
       "      <td>The RS-28 Sarmat missile, dubbed Satan 2, will...</td>\n",
       "    </tr>\n",
       "  </tbody>\n",
       "</table>\n",
       "</div>"
      ],
      "text/plain": [
       "                                               title  \\\n",
       "0  LAW ENFORCEMENT ON HIGH ALERT Following Threat...   \n",
       "1                                            Unknown   \n",
       "2  UNBELIEVABLE! OBAMA’S ATTORNEY GENERAL SAYS MO...   \n",
       "3  Bobby Jindal, raised Hindu, uses story of Chri...   \n",
       "4  SATAN 2: Russia unvelis an image of its terrif...   \n",
       "\n",
       "                                                text  \n",
       "0  No comment is expected from Barack Obama Membe...  \n",
       "1     Did they post their votes for Hillary already?  \n",
       "2   Now, most of the demonstrators gathered last ...  \n",
       "3  A dozen politically active pastors came here f...  \n",
       "4  The RS-28 Sarmat missile, dubbed Satan 2, will...  "
      ]
     },
     "execution_count": 16,
     "metadata": {},
     "output_type": "execute_result"
    }
   ],
   "source": [
    "X.head()"
   ]
  },
  {
   "cell_type": "markdown",
   "id": "13ea85e1",
   "metadata": {
    "papermill": {
     "duration": 0.020109,
     "end_time": "2024-01-11T05:30:15.652245",
     "exception": false,
     "start_time": "2024-01-11T05:30:15.632136",
     "status": "completed"
    },
    "tags": []
   },
   "source": [
    "### Text pre-processing"
   ]
  },
  {
   "cell_type": "code",
   "execution_count": 17,
   "id": "e1fa126f",
   "metadata": {
    "execution": {
     "iopub.execute_input": "2024-01-11T05:30:15.694116Z",
     "iopub.status.busy": "2024-01-11T05:30:15.693723Z",
     "iopub.status.idle": "2024-01-11T05:30:15.701791Z",
     "shell.execute_reply": "2024-01-11T05:30:15.700909Z"
    },
    "papermill": {
     "duration": 0.031521,
     "end_time": "2024-01-11T05:30:15.703918",
     "exception": false,
     "start_time": "2024-01-11T05:30:15.672397",
     "status": "completed"
    },
    "tags": []
   },
   "outputs": [],
   "source": [
    "msgs=data.copy()\n",
    "msgs.reset_index(inplace=True)"
   ]
  },
  {
   "cell_type": "code",
   "execution_count": 18,
   "id": "404bcfab",
   "metadata": {
    "execution": {
     "iopub.execute_input": "2024-01-11T05:30:15.745771Z",
     "iopub.status.busy": "2024-01-11T05:30:15.745371Z",
     "iopub.status.idle": "2024-01-11T05:30:15.759818Z",
     "shell.execute_reply": "2024-01-11T05:30:15.758702Z"
    },
    "papermill": {
     "duration": 0.037754,
     "end_time": "2024-01-11T05:30:15.762119",
     "exception": false,
     "start_time": "2024-01-11T05:30:15.724365",
     "status": "completed"
    },
    "tags": []
   },
   "outputs": [
    {
     "data": {
      "text/html": [
       "<div>\n",
       "<style scoped>\n",
       "    .dataframe tbody tr th:only-of-type {\n",
       "        vertical-align: middle;\n",
       "    }\n",
       "\n",
       "    .dataframe tbody tr th {\n",
       "        vertical-align: top;\n",
       "    }\n",
       "\n",
       "    .dataframe thead th {\n",
       "        text-align: right;\n",
       "    }\n",
       "</style>\n",
       "<table border=\"1\" class=\"dataframe\">\n",
       "  <thead>\n",
       "    <tr style=\"text-align: right;\">\n",
       "      <th></th>\n",
       "      <th>index</th>\n",
       "      <th>title</th>\n",
       "      <th>text</th>\n",
       "      <th>label</th>\n",
       "    </tr>\n",
       "  </thead>\n",
       "  <tbody>\n",
       "    <tr>\n",
       "      <th>10798</th>\n",
       "      <td>10996</td>\n",
       "      <td>Koch network launches effort to kill Republica...</td>\n",
       "      <td>INDIAN WELLS, Calif. (Reuters) - Billionaire i...</td>\n",
       "      <td>0</td>\n",
       "    </tr>\n",
       "    <tr>\n",
       "      <th>50555</th>\n",
       "      <td>55623</td>\n",
       "      <td>Planned Parenthood #PinkOut: ‘Turn the Whole I...</td>\n",
       "      <td>The nation’s largest abortion business is hopi...</td>\n",
       "      <td>0</td>\n",
       "    </tr>\n",
       "    <tr>\n",
       "      <th>18544</th>\n",
       "      <td>19145</td>\n",
       "      <td>Two Florida Lawmakers Just Voted Against Hurr...</td>\n",
       "      <td>Two Florida Republican lawmakers voted against...</td>\n",
       "      <td>1</td>\n",
       "    </tr>\n",
       "    <tr>\n",
       "      <th>45636</th>\n",
       "      <td>49712</td>\n",
       "      <td>California Today: ‘Zoot Suit’ Memories - The N...</td>\n",
       "      <td>Good morning. (Want to get California Today b...</td>\n",
       "      <td>0</td>\n",
       "    </tr>\n",
       "    <tr>\n",
       "      <th>42898</th>\n",
       "      <td>46479</td>\n",
       "      <td>Congressmen Turned Radio Host, Joe Walsh, Reck...</td>\n",
       "      <td>link This guy didn't even win re-election but ...</td>\n",
       "      <td>1</td>\n",
       "    </tr>\n",
       "  </tbody>\n",
       "</table>\n",
       "</div>"
      ],
      "text/plain": [
       "       index                                              title  \\\n",
       "10798  10996  Koch network launches effort to kill Republica...   \n",
       "50555  55623  Planned Parenthood #PinkOut: ‘Turn the Whole I...   \n",
       "18544  19145   Two Florida Lawmakers Just Voted Against Hurr...   \n",
       "45636  49712  California Today: ‘Zoot Suit’ Memories - The N...   \n",
       "42898  46479  Congressmen Turned Radio Host, Joe Walsh, Reck...   \n",
       "\n",
       "                                                    text  label  \n",
       "10798  INDIAN WELLS, Calif. (Reuters) - Billionaire i...      0  \n",
       "50555  The nation’s largest abortion business is hopi...      0  \n",
       "18544  Two Florida Republican lawmakers voted against...      1  \n",
       "45636   Good morning. (Want to get California Today b...      0  \n",
       "42898  link This guy didn't even win re-election but ...      1  "
      ]
     },
     "execution_count": 18,
     "metadata": {},
     "output_type": "execute_result"
    }
   ],
   "source": [
    "msgs.sample(5)"
   ]
  },
  {
   "cell_type": "markdown",
   "id": "4a3792a1",
   "metadata": {
    "papermill": {
     "duration": 0.02017,
     "end_time": "2024-01-11T05:30:15.802350",
     "exception": false,
     "start_time": "2024-01-11T05:30:15.782180",
     "status": "completed"
    },
    "tags": []
   },
   "source": [
    "###### stop words removal and stemming"
   ]
  },
  {
   "cell_type": "code",
   "execution_count": 19,
   "id": "6835da5c",
   "metadata": {
    "execution": {
     "iopub.execute_input": "2024-01-11T05:30:15.844316Z",
     "iopub.status.busy": "2024-01-11T05:30:15.843389Z",
     "iopub.status.idle": "2024-01-11T05:32:30.885186Z",
     "shell.execute_reply": "2024-01-11T05:32:30.884281Z"
    },
    "papermill": {
     "duration": 135.065626,
     "end_time": "2024-01-11T05:32:30.888085",
     "exception": false,
     "start_time": "2024-01-11T05:30:15.822459",
     "status": "completed"
    },
    "tags": []
   },
   "outputs": [],
   "source": [
    "ps=PorterStemmer()\n",
    "corpus=[]\n",
    "for i in range(0, len(msgs)):\n",
    "    review=re.sub('[^a-zA-Z]',' ', msgs['title'][i])\n",
    "    review=review.lower().split()\n",
    "    review=[ps.stem(word) for word in review if word not in set(stopwords.words('english'))]\n",
    "    review=' '.join(review)\n",
    "    corpus.append(review)"
   ]
  },
  {
   "cell_type": "code",
   "execution_count": 20,
   "id": "1d28df05",
   "metadata": {
    "execution": {
     "iopub.execute_input": "2024-01-11T05:32:30.931591Z",
     "iopub.status.busy": "2024-01-11T05:32:30.931194Z",
     "iopub.status.idle": "2024-01-11T05:32:30.937215Z",
     "shell.execute_reply": "2024-01-11T05:32:30.936293Z"
    },
    "papermill": {
     "duration": 0.030379,
     "end_time": "2024-01-11T05:32:30.939751",
     "exception": false,
     "start_time": "2024-01-11T05:32:30.909372",
     "status": "completed"
    },
    "tags": []
   },
   "outputs": [
    {
     "data": {
      "text/plain": [
       "'islam state driven last stronghold northern iraq'"
      ]
     },
     "execution_count": 20,
     "metadata": {},
     "output_type": "execute_result"
    }
   ],
   "source": [
    "corpus[27]"
   ]
  },
  {
   "cell_type": "markdown",
   "id": "810b2d37",
   "metadata": {
    "papermill": {
     "duration": 0.018832,
     "end_time": "2024-01-11T05:32:30.978248",
     "exception": false,
     "start_time": "2024-01-11T05:32:30.959416",
     "status": "completed"
    },
    "tags": []
   },
   "source": [
    "##### Vectorizing the text using BOW"
   ]
  },
  {
   "cell_type": "code",
   "execution_count": 21,
   "id": "42ac0f90",
   "metadata": {
    "execution": {
     "iopub.execute_input": "2024-01-11T05:32:31.018342Z",
     "iopub.status.busy": "2024-01-11T05:32:31.017979Z",
     "iopub.status.idle": "2024-01-11T05:32:36.885594Z",
     "shell.execute_reply": "2024-01-11T05:32:36.884629Z"
    },
    "papermill": {
     "duration": 5.891113,
     "end_time": "2024-01-11T05:32:36.888364",
     "exception": false,
     "start_time": "2024-01-11T05:32:30.997251",
     "status": "completed"
    },
    "tags": []
   },
   "outputs": [],
   "source": [
    "cv=CountVectorizer(max_features=5000,ngram_range=(1,3))\n",
    "X=cv.fit_transform(corpus).toarray()"
   ]
  },
  {
   "cell_type": "code",
   "execution_count": 22,
   "id": "c6dd6569",
   "metadata": {
    "execution": {
     "iopub.execute_input": "2024-01-11T05:32:36.935109Z",
     "iopub.status.busy": "2024-01-11T05:32:36.934178Z",
     "iopub.status.idle": "2024-01-11T05:32:36.941527Z",
     "shell.execute_reply": "2024-01-11T05:32:36.940476Z"
    },
    "papermill": {
     "duration": 0.033234,
     "end_time": "2024-01-11T05:32:36.944028",
     "exception": false,
     "start_time": "2024-01-11T05:32:36.910794",
     "status": "completed"
    },
    "tags": []
   },
   "outputs": [
    {
     "data": {
      "text/plain": [
       "array([[0, 0, 0, ..., 0, 0, 0],\n",
       "       [0, 0, 0, ..., 0, 0, 0],\n",
       "       [0, 0, 0, ..., 0, 0, 0],\n",
       "       ...,\n",
       "       [0, 0, 0, ..., 0, 0, 0],\n",
       "       [0, 0, 0, ..., 0, 0, 0],\n",
       "       [0, 0, 0, ..., 0, 0, 0]])"
      ]
     },
     "execution_count": 22,
     "metadata": {},
     "output_type": "execute_result"
    }
   ],
   "source": [
    "X"
   ]
  },
  {
   "cell_type": "code",
   "execution_count": 23,
   "id": "bfc78dbd",
   "metadata": {
    "execution": {
     "iopub.execute_input": "2024-01-11T05:32:36.992344Z",
     "iopub.status.busy": "2024-01-11T05:32:36.991538Z",
     "iopub.status.idle": "2024-01-11T05:32:36.997942Z",
     "shell.execute_reply": "2024-01-11T05:32:36.996964Z"
    },
    "papermill": {
     "duration": 0.031977,
     "end_time": "2024-01-11T05:32:37.000250",
     "exception": false,
     "start_time": "2024-01-11T05:32:36.968273",
     "status": "completed"
    },
    "tags": []
   },
   "outputs": [
    {
     "data": {
      "text/plain": [
       "(63678, 5000)"
      ]
     },
     "execution_count": 23,
     "metadata": {},
     "output_type": "execute_result"
    }
   ],
   "source": [
    "X.shape"
   ]
  },
  {
   "cell_type": "code",
   "execution_count": 24,
   "id": "52023e32",
   "metadata": {
    "execution": {
     "iopub.execute_input": "2024-01-11T05:32:37.044693Z",
     "iopub.status.busy": "2024-01-11T05:32:37.044318Z",
     "iopub.status.idle": "2024-01-11T05:32:37.049158Z",
     "shell.execute_reply": "2024-01-11T05:32:37.048132Z"
    },
    "papermill": {
     "duration": 0.03011,
     "end_time": "2024-01-11T05:32:37.051428",
     "exception": false,
     "start_time": "2024-01-11T05:32:37.021318",
     "status": "completed"
    },
    "tags": []
   },
   "outputs": [],
   "source": [
    "y=data['label']"
   ]
  },
  {
   "cell_type": "code",
   "execution_count": 25,
   "id": "5704a038",
   "metadata": {
    "execution": {
     "iopub.execute_input": "2024-01-11T05:32:37.098417Z",
     "iopub.status.busy": "2024-01-11T05:32:37.097631Z",
     "iopub.status.idle": "2024-01-11T05:32:37.111813Z",
     "shell.execute_reply": "2024-01-11T05:32:37.110607Z"
    },
    "papermill": {
     "duration": 0.039949,
     "end_time": "2024-01-11T05:32:37.114023",
     "exception": false,
     "start_time": "2024-01-11T05:32:37.074074",
     "status": "completed"
    },
    "tags": []
   },
   "outputs": [
    {
     "data": {
      "text/plain": [
       "array(['abandon', 'abba', 'abc', 'abc news', 'abduct', 'abe', 'abedin',\n",
       "       'abl', 'abort', 'abort law', 'abroad', 'absolut', 'absurd', 'abus',\n",
       "       'academ', 'accept', 'access', 'access pipelin', 'accid',\n",
       "       'accident'], dtype=object)"
      ]
     },
     "execution_count": 25,
     "metadata": {},
     "output_type": "execute_result"
    }
   ],
   "source": [
    "cv.get_feature_names_out()[:20]"
   ]
  },
  {
   "cell_type": "code",
   "execution_count": 26,
   "id": "b0ab7f13",
   "metadata": {
    "execution": {
     "iopub.execute_input": "2024-01-11T05:32:37.161057Z",
     "iopub.status.busy": "2024-01-11T05:32:37.160129Z",
     "iopub.status.idle": "2024-01-11T05:32:37.167458Z",
     "shell.execute_reply": "2024-01-11T05:32:37.166455Z"
    },
    "papermill": {
     "duration": 0.033877,
     "end_time": "2024-01-11T05:32:37.169692",
     "exception": false,
     "start_time": "2024-01-11T05:32:37.135815",
     "status": "completed"
    },
    "tags": []
   },
   "outputs": [
    {
     "data": {
      "text/plain": [
       "{'analyzer': 'word',\n",
       " 'binary': False,\n",
       " 'decode_error': 'strict',\n",
       " 'dtype': numpy.int64,\n",
       " 'encoding': 'utf-8',\n",
       " 'input': 'content',\n",
       " 'lowercase': True,\n",
       " 'max_df': 1.0,\n",
       " 'max_features': 5000,\n",
       " 'min_df': 1,\n",
       " 'ngram_range': (1, 3),\n",
       " 'preprocessor': None,\n",
       " 'stop_words': None,\n",
       " 'strip_accents': None,\n",
       " 'token_pattern': '(?u)\\\\b\\\\w\\\\w+\\\\b',\n",
       " 'tokenizer': None,\n",
       " 'vocabulary': None}"
      ]
     },
     "execution_count": 26,
     "metadata": {},
     "output_type": "execute_result"
    }
   ],
   "source": [
    "cv.get_params()"
   ]
  },
  {
   "cell_type": "code",
   "execution_count": 27,
   "id": "955a5e3e",
   "metadata": {
    "execution": {
     "iopub.execute_input": "2024-01-11T05:32:37.215447Z",
     "iopub.status.busy": "2024-01-11T05:32:37.215067Z",
     "iopub.status.idle": "2024-01-11T05:32:37.241176Z",
     "shell.execute_reply": "2024-01-11T05:32:37.240127Z"
    },
    "papermill": {
     "duration": 0.051046,
     "end_time": "2024-01-11T05:32:37.243559",
     "exception": false,
     "start_time": "2024-01-11T05:32:37.192513",
     "status": "completed"
    },
    "tags": []
   },
   "outputs": [
    {
     "data": {
      "text/html": [
       "<div>\n",
       "<style scoped>\n",
       "    .dataframe tbody tr th:only-of-type {\n",
       "        vertical-align: middle;\n",
       "    }\n",
       "\n",
       "    .dataframe tbody tr th {\n",
       "        vertical-align: top;\n",
       "    }\n",
       "\n",
       "    .dataframe thead th {\n",
       "        text-align: right;\n",
       "    }\n",
       "</style>\n",
       "<table border=\"1\" class=\"dataframe\">\n",
       "  <thead>\n",
       "    <tr style=\"text-align: right;\">\n",
       "      <th></th>\n",
       "      <th>abandon</th>\n",
       "      <th>abba</th>\n",
       "      <th>abc</th>\n",
       "      <th>abc news</th>\n",
       "      <th>abduct</th>\n",
       "      <th>abe</th>\n",
       "      <th>abedin</th>\n",
       "      <th>abl</th>\n",
       "      <th>abort</th>\n",
       "      <th>abort law</th>\n",
       "      <th>...</th>\n",
       "      <th>zero</th>\n",
       "      <th>zika</th>\n",
       "      <th>zika fund</th>\n",
       "      <th>zika viru</th>\n",
       "      <th>zimbabw</th>\n",
       "      <th>zimbabw mugab</th>\n",
       "      <th>zone</th>\n",
       "      <th>zor</th>\n",
       "      <th>zuckerberg</th>\n",
       "      <th>zuma</th>\n",
       "    </tr>\n",
       "  </thead>\n",
       "  <tbody>\n",
       "    <tr>\n",
       "      <th>63673</th>\n",
       "      <td>0</td>\n",
       "      <td>0</td>\n",
       "      <td>0</td>\n",
       "      <td>0</td>\n",
       "      <td>0</td>\n",
       "      <td>0</td>\n",
       "      <td>0</td>\n",
       "      <td>0</td>\n",
       "      <td>0</td>\n",
       "      <td>0</td>\n",
       "      <td>...</td>\n",
       "      <td>0</td>\n",
       "      <td>0</td>\n",
       "      <td>0</td>\n",
       "      <td>0</td>\n",
       "      <td>0</td>\n",
       "      <td>0</td>\n",
       "      <td>0</td>\n",
       "      <td>0</td>\n",
       "      <td>0</td>\n",
       "      <td>0</td>\n",
       "    </tr>\n",
       "    <tr>\n",
       "      <th>63674</th>\n",
       "      <td>0</td>\n",
       "      <td>0</td>\n",
       "      <td>0</td>\n",
       "      <td>0</td>\n",
       "      <td>0</td>\n",
       "      <td>0</td>\n",
       "      <td>0</td>\n",
       "      <td>0</td>\n",
       "      <td>0</td>\n",
       "      <td>0</td>\n",
       "      <td>...</td>\n",
       "      <td>0</td>\n",
       "      <td>0</td>\n",
       "      <td>0</td>\n",
       "      <td>0</td>\n",
       "      <td>0</td>\n",
       "      <td>0</td>\n",
       "      <td>0</td>\n",
       "      <td>0</td>\n",
       "      <td>0</td>\n",
       "      <td>0</td>\n",
       "    </tr>\n",
       "    <tr>\n",
       "      <th>63675</th>\n",
       "      <td>0</td>\n",
       "      <td>0</td>\n",
       "      <td>0</td>\n",
       "      <td>0</td>\n",
       "      <td>0</td>\n",
       "      <td>0</td>\n",
       "      <td>0</td>\n",
       "      <td>0</td>\n",
       "      <td>0</td>\n",
       "      <td>0</td>\n",
       "      <td>...</td>\n",
       "      <td>0</td>\n",
       "      <td>0</td>\n",
       "      <td>0</td>\n",
       "      <td>0</td>\n",
       "      <td>0</td>\n",
       "      <td>0</td>\n",
       "      <td>0</td>\n",
       "      <td>0</td>\n",
       "      <td>0</td>\n",
       "      <td>0</td>\n",
       "    </tr>\n",
       "    <tr>\n",
       "      <th>63676</th>\n",
       "      <td>0</td>\n",
       "      <td>0</td>\n",
       "      <td>0</td>\n",
       "      <td>0</td>\n",
       "      <td>0</td>\n",
       "      <td>0</td>\n",
       "      <td>0</td>\n",
       "      <td>0</td>\n",
       "      <td>0</td>\n",
       "      <td>0</td>\n",
       "      <td>...</td>\n",
       "      <td>0</td>\n",
       "      <td>0</td>\n",
       "      <td>0</td>\n",
       "      <td>0</td>\n",
       "      <td>0</td>\n",
       "      <td>0</td>\n",
       "      <td>0</td>\n",
       "      <td>0</td>\n",
       "      <td>0</td>\n",
       "      <td>0</td>\n",
       "    </tr>\n",
       "    <tr>\n",
       "      <th>63677</th>\n",
       "      <td>0</td>\n",
       "      <td>0</td>\n",
       "      <td>0</td>\n",
       "      <td>0</td>\n",
       "      <td>0</td>\n",
       "      <td>0</td>\n",
       "      <td>0</td>\n",
       "      <td>0</td>\n",
       "      <td>0</td>\n",
       "      <td>0</td>\n",
       "      <td>...</td>\n",
       "      <td>0</td>\n",
       "      <td>0</td>\n",
       "      <td>0</td>\n",
       "      <td>0</td>\n",
       "      <td>0</td>\n",
       "      <td>0</td>\n",
       "      <td>0</td>\n",
       "      <td>0</td>\n",
       "      <td>0</td>\n",
       "      <td>0</td>\n",
       "    </tr>\n",
       "  </tbody>\n",
       "</table>\n",
       "<p>5 rows × 5000 columns</p>\n",
       "</div>"
      ],
      "text/plain": [
       "       abandon  abba  abc  abc news  abduct  abe  abedin  abl  abort  \\\n",
       "63673        0     0    0         0       0    0       0    0      0   \n",
       "63674        0     0    0         0       0    0       0    0      0   \n",
       "63675        0     0    0         0       0    0       0    0      0   \n",
       "63676        0     0    0         0       0    0       0    0      0   \n",
       "63677        0     0    0         0       0    0       0    0      0   \n",
       "\n",
       "       abort law  ...  zero  zika  zika fund  zika viru  zimbabw  \\\n",
       "63673          0  ...     0     0          0          0        0   \n",
       "63674          0  ...     0     0          0          0        0   \n",
       "63675          0  ...     0     0          0          0        0   \n",
       "63676          0  ...     0     0          0          0        0   \n",
       "63677          0  ...     0     0          0          0        0   \n",
       "\n",
       "       zimbabw mugab  zone  zor  zuckerberg  zuma  \n",
       "63673              0     0    0           0     0  \n",
       "63674              0     0    0           0     0  \n",
       "63675              0     0    0           0     0  \n",
       "63676              0     0    0           0     0  \n",
       "63677              0     0    0           0     0  \n",
       "\n",
       "[5 rows x 5000 columns]"
      ]
     },
     "execution_count": 27,
     "metadata": {},
     "output_type": "execute_result"
    }
   ],
   "source": [
    "count_df=pd.DataFrame(X,columns=cv.get_feature_names_out())\n",
    "count_df.tail()"
   ]
  },
  {
   "cell_type": "markdown",
   "id": "312897dd",
   "metadata": {
    "papermill": {
     "duration": 0.021493,
     "end_time": "2024-01-11T05:32:37.288946",
     "exception": false,
     "start_time": "2024-01-11T05:32:37.267453",
     "status": "completed"
    },
    "tags": []
   },
   "source": [
    "#### Train-Test Split"
   ]
  },
  {
   "cell_type": "code",
   "execution_count": 28,
   "id": "ca44e2eb",
   "metadata": {
    "execution": {
     "iopub.execute_input": "2024-01-11T05:32:37.333338Z",
     "iopub.status.busy": "2024-01-11T05:32:37.332936Z",
     "iopub.status.idle": "2024-01-11T05:32:38.493718Z",
     "shell.execute_reply": "2024-01-11T05:32:38.492829Z"
    },
    "papermill": {
     "duration": 1.185644,
     "end_time": "2024-01-11T05:32:38.496168",
     "exception": false,
     "start_time": "2024-01-11T05:32:37.310524",
     "status": "completed"
    },
    "tags": []
   },
   "outputs": [],
   "source": [
    "X_train, X_test, y_train, y_test=train_test_split(X,y, test_size=0.2,random_state=42)"
   ]
  },
  {
   "cell_type": "markdown",
   "id": "7f1657d8",
   "metadata": {
    "papermill": {
     "duration": 0.022176,
     "end_time": "2024-01-11T05:32:38.540207",
     "exception": false,
     "start_time": "2024-01-11T05:32:38.518031",
     "status": "completed"
    },
    "tags": []
   },
   "source": [
    "### Applying the Models"
   ]
  },
  {
   "cell_type": "markdown",
   "id": "d66f93cf",
   "metadata": {
    "papermill": {
     "duration": 0.02274,
     "end_time": "2024-01-11T05:32:38.585604",
     "exception": false,
     "start_time": "2024-01-11T05:32:38.562864",
     "status": "completed"
    },
    "tags": []
   },
   "source": [
    "#### 1. MulinomialNB Algorithm"
   ]
  },
  {
   "cell_type": "code",
   "execution_count": 29,
   "id": "9931aa6b",
   "metadata": {
    "execution": {
     "iopub.execute_input": "2024-01-11T05:32:38.634160Z",
     "iopub.status.busy": "2024-01-11T05:32:38.633252Z",
     "iopub.status.idle": "2024-01-11T05:32:41.725500Z",
     "shell.execute_reply": "2024-01-11T05:32:41.723818Z"
    },
    "papermill": {
     "duration": 3.120725,
     "end_time": "2024-01-11T05:32:41.729315",
     "exception": false,
     "start_time": "2024-01-11T05:32:38.608590",
     "status": "completed"
    },
    "tags": []
   },
   "outputs": [],
   "source": [
    "classifier=MultinomialNB()\n",
    "classifier.fit(X_train,y_train)\n",
    "y_pred=classifier.predict(X_test)"
   ]
  },
  {
   "cell_type": "code",
   "execution_count": 30,
   "id": "43086f4f",
   "metadata": {
    "execution": {
     "iopub.execute_input": "2024-01-11T05:32:41.828403Z",
     "iopub.status.busy": "2024-01-11T05:32:41.827768Z",
     "iopub.status.idle": "2024-01-11T05:32:41.841345Z",
     "shell.execute_reply": "2024-01-11T05:32:41.840060Z"
    },
    "papermill": {
     "duration": 0.068284,
     "end_time": "2024-01-11T05:32:41.845147",
     "exception": false,
     "start_time": "2024-01-11T05:32:41.776863",
     "status": "completed"
    },
    "tags": []
   },
   "outputs": [
    {
     "data": {
      "text/plain": [
       "0.8670697236180904"
      ]
     },
     "execution_count": 30,
     "metadata": {},
     "output_type": "execute_result"
    }
   ],
   "source": [
    "accuracy_score(y_test, y_pred)"
   ]
  },
  {
   "cell_type": "code",
   "execution_count": 31,
   "id": "a644e649",
   "metadata": {
    "execution": {
     "iopub.execute_input": "2024-01-11T05:32:41.899784Z",
     "iopub.status.busy": "2024-01-11T05:32:41.899074Z",
     "iopub.status.idle": "2024-01-11T05:32:41.911449Z",
     "shell.execute_reply": "2024-01-11T05:32:41.910244Z"
    },
    "papermill": {
     "duration": 0.040113,
     "end_time": "2024-01-11T05:32:41.914299",
     "exception": false,
     "start_time": "2024-01-11T05:32:41.874186",
     "status": "completed"
    },
    "tags": []
   },
   "outputs": [
    {
     "data": {
      "text/plain": [
       "array([[6027,  998],\n",
       "       [ 695, 5016]])"
      ]
     },
     "execution_count": 31,
     "metadata": {},
     "output_type": "execute_result"
    }
   ],
   "source": [
    "confusion_matrix(y_test, y_pred)"
   ]
  },
  {
   "cell_type": "code",
   "execution_count": 32,
   "id": "2a761e89",
   "metadata": {
    "execution": {
     "iopub.execute_input": "2024-01-11T05:32:41.964688Z",
     "iopub.status.busy": "2024-01-11T05:32:41.964323Z",
     "iopub.status.idle": "2024-01-11T05:32:41.999301Z",
     "shell.execute_reply": "2024-01-11T05:32:41.998055Z"
    },
    "papermill": {
     "duration": 0.061564,
     "end_time": "2024-01-11T05:32:42.001505",
     "exception": false,
     "start_time": "2024-01-11T05:32:41.939941",
     "status": "completed"
    },
    "tags": []
   },
   "outputs": [
    {
     "name": "stdout",
     "output_type": "stream",
     "text": [
      "              precision    recall  f1-score   support\n",
      "\n",
      "           0       0.90      0.86      0.88      7025\n",
      "           1       0.83      0.88      0.86      5711\n",
      "\n",
      "    accuracy                           0.87     12736\n",
      "   macro avg       0.87      0.87      0.87     12736\n",
      "weighted avg       0.87      0.87      0.87     12736\n",
      "\n"
     ]
    }
   ],
   "source": [
    "print(classification_report(y_test, y_pred))"
   ]
  },
  {
   "cell_type": "code",
   "execution_count": 33,
   "id": "cfd63716",
   "metadata": {
    "execution": {
     "iopub.execute_input": "2024-01-11T05:32:42.045047Z",
     "iopub.status.busy": "2024-01-11T05:32:42.044671Z",
     "iopub.status.idle": "2024-01-11T05:32:57.873731Z",
     "shell.execute_reply": "2024-01-11T05:32:57.872069Z"
    },
    "papermill": {
     "duration": 15.855544,
     "end_time": "2024-01-11T05:32:57.878036",
     "exception": false,
     "start_time": "2024-01-11T05:32:42.022492",
     "status": "completed"
    },
    "tags": []
   },
   "outputs": [],
   "source": [
    "classifier=PassiveAggressiveClassifier(max_iter=5000,C=0.5)\n",
    "classifier.fit(X_train,y_train)\n",
    "y_pred=classifier.predict(X_test)"
   ]
  },
  {
   "cell_type": "code",
   "execution_count": 34,
   "id": "946969d1",
   "metadata": {
    "execution": {
     "iopub.execute_input": "2024-01-11T05:32:57.980433Z",
     "iopub.status.busy": "2024-01-11T05:32:57.979644Z",
     "iopub.status.idle": "2024-01-11T05:32:58.000775Z",
     "shell.execute_reply": "2024-01-11T05:32:57.999223Z"
    },
    "papermill": {
     "duration": 0.075366,
     "end_time": "2024-01-11T05:32:58.003564",
     "exception": false,
     "start_time": "2024-01-11T05:32:57.928198",
     "status": "completed"
    },
    "tags": []
   },
   "outputs": [
    {
     "data": {
      "text/plain": [
       "0.8656564070351759"
      ]
     },
     "execution_count": 34,
     "metadata": {},
     "output_type": "execute_result"
    }
   ],
   "source": [
    "accuracy_score(y_test,y_pred)"
   ]
  },
  {
   "cell_type": "code",
   "execution_count": 35,
   "id": "0d70bd17",
   "metadata": {
    "execution": {
     "iopub.execute_input": "2024-01-11T05:32:58.053974Z",
     "iopub.status.busy": "2024-01-11T05:32:58.053144Z",
     "iopub.status.idle": "2024-01-11T05:32:58.063549Z",
     "shell.execute_reply": "2024-01-11T05:32:58.062545Z"
    },
    "papermill": {
     "duration": 0.036267,
     "end_time": "2024-01-11T05:32:58.065635",
     "exception": false,
     "start_time": "2024-01-11T05:32:58.029368",
     "status": "completed"
    },
    "tags": []
   },
   "outputs": [
    {
     "data": {
      "text/plain": [
       "array([[6085,  940],\n",
       "       [ 771, 4940]])"
      ]
     },
     "execution_count": 35,
     "metadata": {},
     "output_type": "execute_result"
    }
   ],
   "source": [
    "confusion_matrix(y_test, y_pred)"
   ]
  },
  {
   "cell_type": "code",
   "execution_count": 36,
   "id": "51337347",
   "metadata": {
    "execution": {
     "iopub.execute_input": "2024-01-11T05:32:58.112860Z",
     "iopub.status.busy": "2024-01-11T05:32:58.112478Z",
     "iopub.status.idle": "2024-01-11T05:32:58.148876Z",
     "shell.execute_reply": "2024-01-11T05:32:58.147573Z"
    },
    "papermill": {
     "duration": 0.062924,
     "end_time": "2024-01-11T05:32:58.151392",
     "exception": false,
     "start_time": "2024-01-11T05:32:58.088468",
     "status": "completed"
    },
    "tags": []
   },
   "outputs": [
    {
     "name": "stdout",
     "output_type": "stream",
     "text": [
      "              precision    recall  f1-score   support\n",
      "\n",
      "           0       0.89      0.87      0.88      7025\n",
      "           1       0.84      0.86      0.85      5711\n",
      "\n",
      "    accuracy                           0.87     12736\n",
      "   macro avg       0.86      0.87      0.86     12736\n",
      "weighted avg       0.87      0.87      0.87     12736\n",
      "\n"
     ]
    }
   ],
   "source": [
    "print(classification_report(y_test, y_pred))"
   ]
  },
  {
   "cell_type": "markdown",
   "id": "3c530b6a",
   "metadata": {
    "papermill": {
     "duration": 0.02323,
     "end_time": "2024-01-11T05:32:58.197912",
     "exception": false,
     "start_time": "2024-01-11T05:32:58.174682",
     "status": "completed"
    },
    "tags": []
   },
   "source": [
    "#### Hyper-parameter tuning"
   ]
  },
  {
   "cell_type": "code",
   "execution_count": 37,
   "id": "b0515f35",
   "metadata": {
    "execution": {
     "iopub.execute_input": "2024-01-11T05:32:58.247892Z",
     "iopub.status.busy": "2024-01-11T05:32:58.247511Z",
     "iopub.status.idle": "2024-01-11T05:32:58.252191Z",
     "shell.execute_reply": "2024-01-11T05:32:58.251245Z"
    },
    "papermill": {
     "duration": 0.031704,
     "end_time": "2024-01-11T05:32:58.254522",
     "exception": false,
     "start_time": "2024-01-11T05:32:58.222818",
     "status": "completed"
    },
    "tags": []
   },
   "outputs": [],
   "source": [
    "classifier=MultinomialNB(alpha=0.1)"
   ]
  },
  {
   "cell_type": "code",
   "execution_count": 38,
   "id": "9936401c",
   "metadata": {
    "execution": {
     "iopub.execute_input": "2024-01-11T05:32:58.300269Z",
     "iopub.status.busy": "2024-01-11T05:32:58.299566Z",
     "iopub.status.idle": "2024-01-11T05:33:29.214323Z",
     "shell.execute_reply": "2024-01-11T05:33:29.212769Z"
    },
    "papermill": {
     "duration": 30.986427,
     "end_time": "2024-01-11T05:33:29.262735",
     "exception": false,
     "start_time": "2024-01-11T05:32:58.276308",
     "status": "completed"
    },
    "tags": []
   },
   "outputs": [
    {
     "name": "stderr",
     "output_type": "stream",
     "text": [
      "/opt/conda/lib/python3.10/site-packages/sklearn/naive_bayes.py:629: FutureWarning: The default value for `force_alpha` will change to `True` in 1.4. To suppress this warning, manually set the value of `force_alpha`.\n",
      "  warnings.warn(\n",
      "/opt/conda/lib/python3.10/site-packages/sklearn/naive_bayes.py:635: UserWarning: alpha too small will result in numeric errors, setting alpha = 1.0e-10. Use `force_alpha=True` to keep alpha unchanged.\n",
      "  warnings.warn(\n"
     ]
    },
    {
     "name": "stdout",
     "output_type": "stream",
     "text": [
      "Alpha:0.0, Score:0.8656564070351759\n",
      "Alpha:0.1, Score:0.8665201005025126\n",
      "Alpha:0.2, Score:0.8667556532663316\n",
      "Alpha:0.30000000000000004, Score:0.8665986180904522\n",
      "Alpha:0.4, Score:0.8668341708542714\n",
      "Alpha:0.5, Score:0.866677135678392\n",
      "Alpha:0.6000000000000001, Score:0.8665986180904522\n",
      "Alpha:0.7000000000000001, Score:0.8667556532663316\n",
      "Alpha:0.8, Score:0.8667556532663316\n",
      "Alpha:0.9, Score:0.866912688442211\n"
     ]
    }
   ],
   "source": [
    "prev_score=0\n",
    "for alpha in np.arange(0,1,0.1):\n",
    "    sub_classifier=MultinomialNB(alpha=alpha)\n",
    "    sub_classifier.fit(X_train, y_train)\n",
    "    y_pred=sub_classifier.predict(X_test)\n",
    "    score=accuracy_score(y_test, y_pred)\n",
    "    if score>prev_score:\n",
    "        classifier=sub_classifier\n",
    "    print(\"Alpha:{}, Score:{}\".format(alpha,score))"
   ]
  },
  {
   "cell_type": "code",
   "execution_count": 39,
   "id": "7cb1e69d",
   "metadata": {
    "execution": {
     "iopub.execute_input": "2024-01-11T05:33:29.343222Z",
     "iopub.status.busy": "2024-01-11T05:33:29.342800Z",
     "iopub.status.idle": "2024-01-11T05:35:35.447405Z",
     "shell.execute_reply": "2024-01-11T05:35:35.443090Z"
    },
    "papermill": {
     "duration": 126.140779,
     "end_time": "2024-01-11T05:35:35.451674",
     "exception": false,
     "start_time": "2024-01-11T05:33:29.310895",
     "status": "completed"
    },
    "tags": []
   },
   "outputs": [
    {
     "name": "stdout",
     "output_type": "stream",
     "text": [
      "Alpha:0.1, Score:0.8677763819095478\n",
      "Alpha:0.2, Score:0.8508951005025126\n",
      "Alpha:0.30000000000000004, Score:0.842964824120603\n",
      "Alpha:0.4, Score:0.836447864321608\n",
      "Alpha:0.5, Score:0.828910175879397\n",
      "Alpha:0.6, Score:0.8286746231155779\n",
      "Alpha:0.7000000000000001, Score:0.8276538944723618\n",
      "Alpha:0.8, Score:0.8299309045226131\n",
      "Alpha:0.9, Score:0.8309516331658291\n"
     ]
    }
   ],
   "source": [
    "prev_score=0\n",
    "for alpha in np.arange(0.1,1,0.1):\n",
    "    sub_classifier=PassiveAggressiveClassifier(C=alpha, max_iter=5000,shuffle=False )\n",
    "    sub_classifier.fit(X_train, y_train)\n",
    "    y_pred=sub_classifier.predict(X_test)\n",
    "    score=accuracy_score(y_test, y_pred)\n",
    "    if score>prev_score:\n",
    "        classifier=sub_classifier\n",
    "    print(\"Alpha:{}, Score:{}\".format(alpha,score))"
   ]
  },
  {
   "cell_type": "code",
   "execution_count": 40,
   "id": "569001f1",
   "metadata": {
    "execution": {
     "iopub.execute_input": "2024-01-11T05:35:35.563474Z",
     "iopub.status.busy": "2024-01-11T05:35:35.562809Z",
     "iopub.status.idle": "2024-01-11T05:35:57.453131Z",
     "shell.execute_reply": "2024-01-11T05:35:57.451544Z"
    },
    "papermill": {
     "duration": 21.949836,
     "end_time": "2024-01-11T05:35:57.458159",
     "exception": false,
     "start_time": "2024-01-11T05:35:35.508323",
     "status": "completed"
    },
    "tags": []
   },
   "outputs": [],
   "source": [
    "classifier=PassiveAggressiveClassifier(max_iter=5000,C=0.1)\n",
    "classifier.fit(X_train,y_train)\n",
    "y_pred=classifier.predict(X_test)"
   ]
  },
  {
   "cell_type": "code",
   "execution_count": 41,
   "id": "6485504e",
   "metadata": {
    "execution": {
     "iopub.execute_input": "2024-01-11T05:35:57.571417Z",
     "iopub.status.busy": "2024-01-11T05:35:57.570753Z",
     "iopub.status.idle": "2024-01-11T05:35:57.584063Z",
     "shell.execute_reply": "2024-01-11T05:35:57.583265Z"
    },
    "papermill": {
     "duration": 0.072017,
     "end_time": "2024-01-11T05:35:57.586250",
     "exception": false,
     "start_time": "2024-01-11T05:35:57.514233",
     "status": "completed"
    },
    "tags": []
   },
   "outputs": [
    {
     "data": {
      "text/plain": [
       "0.8814384422110553"
      ]
     },
     "execution_count": 41,
     "metadata": {},
     "output_type": "execute_result"
    }
   ],
   "source": [
    "accuracy_score(y_test, y_pred)"
   ]
  },
  {
   "cell_type": "code",
   "execution_count": 42,
   "id": "f13e816f",
   "metadata": {
    "execution": {
     "iopub.execute_input": "2024-01-11T05:35:57.640843Z",
     "iopub.status.busy": "2024-01-11T05:35:57.640455Z",
     "iopub.status.idle": "2024-01-11T05:35:57.652573Z",
     "shell.execute_reply": "2024-01-11T05:35:57.651671Z"
    },
    "papermill": {
     "duration": 0.040968,
     "end_time": "2024-01-11T05:35:57.654862",
     "exception": false,
     "start_time": "2024-01-11T05:35:57.613894",
     "status": "completed"
    },
    "tags": []
   },
   "outputs": [],
   "source": [
    "feature_names=cv.get_feature_names_out()"
   ]
  },
  {
   "cell_type": "code",
   "execution_count": 43,
   "id": "f6ba2fe3",
   "metadata": {
    "execution": {
     "iopub.execute_input": "2024-01-11T05:35:57.706904Z",
     "iopub.status.busy": "2024-01-11T05:35:57.706538Z",
     "iopub.status.idle": "2024-01-11T05:35:57.714084Z",
     "shell.execute_reply": "2024-01-11T05:35:57.712983Z"
    },
    "papermill": {
     "duration": 0.037004,
     "end_time": "2024-01-11T05:35:57.716527",
     "exception": false,
     "start_time": "2024-01-11T05:35:57.679523",
     "status": "completed"
    },
    "tags": []
   },
   "outputs": [
    {
     "data": {
      "text/plain": [
       "array([ 0.31453119, -1.20822281, -0.72465644, ..., -0.75205768,\n",
       "       -0.52031213, -1.35252792])"
      ]
     },
     "execution_count": 43,
     "metadata": {},
     "output_type": "execute_result"
    }
   ],
   "source": [
    "classifier.coef_[0]"
   ]
  },
  {
   "cell_type": "markdown",
   "id": "a079f543",
   "metadata": {
    "papermill": {
     "duration": 0.024694,
     "end_time": "2024-01-11T05:35:57.768474",
     "exception": false,
     "start_time": "2024-01-11T05:35:57.743780",
     "status": "completed"
    },
    "tags": []
   },
   "source": [
    "#### First 20 MOST REAL WORD"
   ]
  },
  {
   "cell_type": "code",
   "execution_count": 44,
   "id": "49f15e18",
   "metadata": {
    "execution": {
     "iopub.execute_input": "2024-01-11T05:35:57.819758Z",
     "iopub.status.busy": "2024-01-11T05:35:57.819019Z",
     "iopub.status.idle": "2024-01-11T05:35:57.837644Z",
     "shell.execute_reply": "2024-01-11T05:35:57.836556Z"
    },
    "papermill": {
     "duration": 0.046825,
     "end_time": "2024-01-11T05:35:57.839925",
     "exception": false,
     "start_time": "2024-01-11T05:35:57.793100",
     "status": "completed"
    },
    "tags": []
   },
   "outputs": [
    {
     "data": {
      "text/plain": [
       "[(4.414075967221994, 'daesh'),\n",
       " (4.0481226065459985, 'dem senat'),\n",
       " (3.9429174158624014, 'hilari'),\n",
       " (3.914857162637477, 'russia news'),\n",
       " (3.836934081732064, 'chart day'),\n",
       " (3.7984872470347435, 'wow'),\n",
       " (3.5054497449019437, 'whoa'),\n",
       " (3.4880468789902093, 'presstv'),\n",
       " (3.465153346241126, 'beg'),\n",
       " (3.4367881556054773, 'lol'),\n",
       " (3.428690887497296, 'bundi'),\n",
       " (3.381540033088935, 'anti lgbt'),\n",
       " (3.3742690879902706, 'columnist'),\n",
       " (3.251809010023216, 'lawless'),\n",
       " (3.2264768649166577, 'neocon'),\n",
       " (3.100457328171929, 'guess'),\n",
       " (3.01439341064812, 'justin'),\n",
       " (2.964619723004182, 'shocker'),\n",
       " (2.941094291902844, 'moron'),\n",
       " (2.919827791490699, 'big pharma')]"
      ]
     },
     "execution_count": 44,
     "metadata": {},
     "output_type": "execute_result"
    }
   ],
   "source": [
    "sorted(zip(classifier.coef_[0], feature_names), reverse=True)[:20]"
   ]
  },
  {
   "cell_type": "markdown",
   "id": "1535db53",
   "metadata": {
    "papermill": {
     "duration": 0.02503,
     "end_time": "2024-01-11T05:35:57.890886",
     "exception": false,
     "start_time": "2024-01-11T05:35:57.865856",
     "status": "completed"
    },
    "tags": []
   },
   "source": [
    "#### Most Fakest words"
   ]
  },
  {
   "cell_type": "code",
   "execution_count": 45,
   "id": "6cab6636",
   "metadata": {
    "execution": {
     "iopub.execute_input": "2024-01-11T05:35:57.944201Z",
     "iopub.status.busy": "2024-01-11T05:35:57.943482Z",
     "iopub.status.idle": "2024-01-11T05:35:57.961318Z",
     "shell.execute_reply": "2024-01-11T05:35:57.960283Z"
    },
    "papermill": {
     "duration": 0.047516,
     "end_time": "2024-01-11T05:35:57.963334",
     "exception": false,
     "start_time": "2024-01-11T05:35:57.915818",
     "status": "completed"
    },
    "tags": []
   },
   "outputs": [
    {
     "data": {
      "text/plain": [
       "[(-5.508609210617985, 'breitbart'),\n",
       " (-4.035358957636692, 'factbox'),\n",
       " (-3.897169927893451, 'delingpol'),\n",
       " (-3.6876115206023545, 'rohingya'),\n",
       " (-3.2710224592984796, 'singapor'),\n",
       " (-3.252921779408713, 'pruitt'),\n",
       " (-3.1930008150803864, 'le pen'),\n",
       " (-3.1118301301071183, 'somalia'),\n",
       " (-3.1046539815964014, 'lebanes'),\n",
       " (-3.090965423410008, 'czech'),\n",
       " (-3.069777310471518, 'usa today'),\n",
       " (-3.0219497359931657, 'bali'),\n",
       " (-2.9839921985997284, 'radic islam'),\n",
       " (-2.982276086346504, 'catalan'),\n",
       " (-2.9696098216955136, 'persist'),\n",
       " (-2.900538082544353, 'thai'),\n",
       " (-2.8770604506976745, 'islam state'),\n",
       " (-2.8417551591657317, 'nigeria'),\n",
       " (-2.8341571622496597, 'clinton call'),\n",
       " (-2.715130157516498, 'argentin')]"
      ]
     },
     "execution_count": 45,
     "metadata": {},
     "output_type": "execute_result"
    }
   ],
   "source": [
    "sorted(zip(classifier.coef_[0], feature_names))[:20]"
   ]
  },
  {
   "cell_type": "code",
   "execution_count": null,
   "id": "7206c674",
   "metadata": {
    "papermill": {
     "duration": 0.025771,
     "end_time": "2024-01-11T05:35:58.014607",
     "exception": false,
     "start_time": "2024-01-11T05:35:57.988836",
     "status": "completed"
    },
    "tags": []
   },
   "outputs": [],
   "source": []
  }
 ],
 "metadata": {
  "kaggle": {
   "accelerator": "gpu",
   "dataSources": [
    {
     "datasetId": 2093157,
     "sourceId": 6641062,
     "sourceType": "datasetVersion"
    }
   ],
   "dockerImageVersionId": 30627,
   "isGpuEnabled": true,
   "isInternetEnabled": true,
   "language": "python",
   "sourceType": "notebook"
  },
  "kernelspec": {
   "display_name": "Python 3",
   "language": "python",
   "name": "python3"
  },
  "language_info": {
   "codemirror_mode": {
    "name": "ipython",
    "version": 3
   },
   "file_extension": ".py",
   "mimetype": "text/x-python",
   "name": "python",
   "nbconvert_exporter": "python",
   "pygments_lexer": "ipython3",
   "version": "3.10.12"
  },
  "papermill": {
   "default_parameters": {},
   "duration": 375.605189,
   "end_time": "2024-01-11T05:35:58.862662",
   "environment_variables": {},
   "exception": null,
   "input_path": "__notebook__.ipynb",
   "output_path": "__notebook__.ipynb",
   "parameters": {},
   "start_time": "2024-01-11T05:29:43.257473",
   "version": "2.4.0"
  }
 },
 "nbformat": 4,
 "nbformat_minor": 5
}
